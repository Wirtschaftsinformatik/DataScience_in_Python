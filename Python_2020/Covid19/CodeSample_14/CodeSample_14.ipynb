{
 "cells": [
  {
   "cell_type": "markdown",
   "metadata": {},
   "source": [
    "# 1.) Importieren der Pakete und einlesen des Datensatzes "
   ]
  },
  {
   "cell_type": "code",
   "execution_count": 185,
   "metadata": {},
   "outputs": [],
   "source": [
    "import pandas as pd\n",
    "import matplotlib.pyplot as plt\n",
    "import seaborn as sns\n",
    "import numpy as np"
   ]
  },
  {
   "cell_type": "code",
   "execution_count": 186,
   "metadata": {},
   "outputs": [],
   "source": [
    "file = 'COVID-19.csv'\n",
    "data = pd.read_csv(file, sep=';', na_values='Nothing')"
   ]
  },
  {
   "cell_type": "markdown",
   "metadata": {},
   "source": [
    "# 2.) Preprocessing"
   ]
  },
  {
   "cell_type": "markdown",
   "metadata": {},
   "source": [
    "##  2.1) Sichtung der CSV-Datei"
   ]
  },
  {
   "cell_type": "code",
   "execution_count": 187,
   "metadata": {},
   "outputs": [
    {
     "name": "stdout",
     "output_type": "stream",
     "text": [
      "      dateRep  day  month  year  cases  deaths countriesAndTerritories geoId  \\\n",
      "0  13.05.2020   13      5  2020    280       5             Afghanistan    AF   \n",
      "1  12.05.2020   12      5  2020    285       2             Afghanistan    AF   \n",
      "2  11.05.2020   11      5  2020    369       5             Afghanistan    AF   \n",
      "3  10.05.2020   10      5  2020    255       6             Afghanistan    AF   \n",
      "4  09.05.2020    9      5  2020    215       3             Afghanistan    AF   \n",
      "\n",
      "  countryterritoryCode  popData2018 continentExp  \n",
      "0                  AFG   37172386.0         Asia  \n",
      "1                  AFG   37172386.0         Asia  \n",
      "2                  AFG   37172386.0         Asia  \n",
      "3                  AFG   37172386.0         Asia  \n",
      "4                  AFG   37172386.0         Asia  \n"
     ]
    }
   ],
   "source": [
    "print(data.head())"
   ]
  },
  {
   "cell_type": "code",
   "execution_count": 188,
   "metadata": {},
   "outputs": [
    {
     "name": "stdout",
     "output_type": "stream",
     "text": [
      "<class 'pandas.core.frame.DataFrame'>\n",
      "RangeIndex: 16741 entries, 0 to 16740\n",
      "Data columns (total 11 columns):\n",
      "dateRep                    16741 non-null object\n",
      "day                        16741 non-null int64\n",
      "month                      16741 non-null int64\n",
      "year                       16741 non-null int64\n",
      "cases                      16741 non-null int64\n",
      "deaths                     16741 non-null int64\n",
      "countriesAndTerritories    16741 non-null object\n",
      "geoId                      16681 non-null object\n",
      "countryterritoryCode       16529 non-null object\n",
      "popData2018                16540 non-null float64\n",
      "continentExp               16741 non-null object\n",
      "dtypes: float64(1), int64(5), object(5)\n",
      "memory usage: 1.1+ MB\n"
     ]
    }
   ],
   "source": [
    "data.info()"
   ]
  },
  {
   "cell_type": "markdown",
   "metadata": {},
   "source": [
    "Über verschiedene Befehle können Informationen des Datensatzes eingeholt werden. Im obigen Infobefehl fällt auf,\n",
    "dass der Datensatz im hinteren Teil der Attribute weniger Einträge aufweist. Dies könnte auf missing values hinweisen.\n",
    "Zudem sind nur die Datentypen Object, int, float vorhanden, obwohl auch ein Datumsformat eingelesen worden sein müsste."
   ]
  },
  {
   "cell_type": "code",
   "execution_count": 189,
   "metadata": {},
   "outputs": [
    {
     "data": {
      "text/html": [
       "<div>\n",
       "<style scoped>\n",
       "    .dataframe tbody tr th:only-of-type {\n",
       "        vertical-align: middle;\n",
       "    }\n",
       "\n",
       "    .dataframe tbody tr th {\n",
       "        vertical-align: top;\n",
       "    }\n",
       "\n",
       "    .dataframe thead th {\n",
       "        text-align: right;\n",
       "    }\n",
       "</style>\n",
       "<table border=\"1\" class=\"dataframe\">\n",
       "  <thead>\n",
       "    <tr style=\"text-align: right;\">\n",
       "      <th></th>\n",
       "      <th>cases</th>\n",
       "      <th>deaths</th>\n",
       "      <th>popData2018</th>\n",
       "    </tr>\n",
       "  </thead>\n",
       "  <tbody>\n",
       "    <tr>\n",
       "      <th>count</th>\n",
       "      <td>16741.000000</td>\n",
       "      <td>16741.000000</td>\n",
       "      <td>1.654000e+04</td>\n",
       "    </tr>\n",
       "    <tr>\n",
       "      <th>mean</th>\n",
       "      <td>252.257750</td>\n",
       "      <td>17.413476</td>\n",
       "      <td>5.253378e+07</td>\n",
       "    </tr>\n",
       "    <tr>\n",
       "      <th>std</th>\n",
       "      <td>1654.897379</td>\n",
       "      <td>125.236691</td>\n",
       "      <td>1.780738e+08</td>\n",
       "    </tr>\n",
       "    <tr>\n",
       "      <th>min</th>\n",
       "      <td>-2461.000000</td>\n",
       "      <td>-6.000000</td>\n",
       "      <td>1.000000e+03</td>\n",
       "    </tr>\n",
       "    <tr>\n",
       "      <th>25%</th>\n",
       "      <td>0.000000</td>\n",
       "      <td>0.000000</td>\n",
       "      <td>2.448255e+06</td>\n",
       "    </tr>\n",
       "    <tr>\n",
       "      <th>50%</th>\n",
       "      <td>2.000000</td>\n",
       "      <td>0.000000</td>\n",
       "      <td>9.630959e+06</td>\n",
       "    </tr>\n",
       "    <tr>\n",
       "      <th>75%</th>\n",
       "      <td>36.000000</td>\n",
       "      <td>1.000000</td>\n",
       "      <td>3.705886e+07</td>\n",
       "    </tr>\n",
       "    <tr>\n",
       "      <th>max</th>\n",
       "      <td>48529.000000</td>\n",
       "      <td>4928.000000</td>\n",
       "      <td>1.392730e+09</td>\n",
       "    </tr>\n",
       "  </tbody>\n",
       "</table>\n",
       "</div>"
      ],
      "text/plain": [
       "              cases        deaths   popData2018\n",
       "count  16741.000000  16741.000000  1.654000e+04\n",
       "mean     252.257750     17.413476  5.253378e+07\n",
       "std     1654.897379    125.236691  1.780738e+08\n",
       "min    -2461.000000     -6.000000  1.000000e+03\n",
       "25%        0.000000      0.000000  2.448255e+06\n",
       "50%        2.000000      0.000000  9.630959e+06\n",
       "75%       36.000000      1.000000  3.705886e+07\n",
       "max    48529.000000   4928.000000  1.392730e+09"
      ]
     },
     "execution_count": 189,
     "metadata": {},
     "output_type": "execute_result"
    }
   ],
   "source": [
    "datarelevant = ['cases','deaths','popData2018']\n",
    "data[datarelevant].describe()"
   ]
  },
  {
   "cell_type": "code",
   "execution_count": 190,
   "metadata": {},
   "outputs": [
    {
     "data": {
      "text/plain": [
       "(16741, 11)"
      ]
     },
     "execution_count": 190,
     "metadata": {},
     "output_type": "execute_result"
    }
   ],
   "source": [
    "data.shape"
   ]
  },
  {
   "cell_type": "markdown",
   "metadata": {},
   "source": [
    "Durch die beiden obigen Befehle describe und shape kann eine erste Übersicht über die Ausprägung der Daten gewonnen\n",
    "werden. Hier geht es vor allem um eine Gesamtansicht bzw. eine grobe Draufsicht. \n",
    "Dafür wurden nur die relevanten Attribute ausgewählt, da diese Ansicht bei Datumsformaten z.B. keinen Sinn macht.\n",
    "Die Werte werden später noch genauer inspiziert. Zudem ist zu sehen, dass der Datensatz 16741 Einträge mit 11\n",
    "Ausprägungen enthält."
   ]
  },
  {
   "cell_type": "code",
   "execution_count": 191,
   "metadata": {},
   "outputs": [
    {
     "data": {
      "text/plain": [
       "dateRep                     object\n",
       "day                          int64\n",
       "month                        int64\n",
       "year                         int64\n",
       "cases                        int64\n",
       "deaths                       int64\n",
       "countriesAndTerritories     object\n",
       "geoId                       object\n",
       "countryterritoryCode        object\n",
       "popData2018                float64\n",
       "continentExp                object\n",
       "dtype: object"
      ]
     },
     "execution_count": 191,
     "metadata": {},
     "output_type": "execute_result"
    }
   ],
   "source": [
    "data.dtypes"
   ]
  },
  {
   "cell_type": "markdown",
   "metadata": {},
   "source": [
    "Wie bereits erwähnt, wird hier noch einmal bestätigt, dass das Datumsformat falsch eingelesen wurde.\n",
    "Dies wird im Folgenden behoben."
   ]
  },
  {
   "cell_type": "markdown",
   "metadata": {},
   "source": [
    "## 2.2) Data Preperation"
   ]
  },
  {
   "cell_type": "markdown",
   "metadata": {},
   "source": [
    "### 2.2.1) Korrektur falsch eingelesener Formate (Datumsformat)"
   ]
  },
  {
   "cell_type": "code",
   "execution_count": 192,
   "metadata": {},
   "outputs": [],
   "source": [
    "data['dateRep'] = pd.to_datetime(data['dateRep'])\n"
   ]
  },
  {
   "cell_type": "code",
   "execution_count": 193,
   "metadata": {},
   "outputs": [],
   "source": [
    "data['popData2018'] = data['popData2018']"
   ]
  },
  {
   "cell_type": "code",
   "execution_count": 194,
   "metadata": {},
   "outputs": [
    {
     "name": "stdout",
     "output_type": "stream",
     "text": [
      "Empty DataFrame\n",
      "Columns: [dateRep, day, month, year, cases, deaths, countriesAndTerritories, geoId, countryterritoryCode, popData2018, continentExp]\n",
      "Index: []\n"
     ]
    }
   ],
   "source": [
    "\n",
    "NA = data[data['popData2018'] == None]\n",
    "print(NA)"
   ]
  },
  {
   "cell_type": "code",
   "execution_count": 197,
   "metadata": {},
   "outputs": [
    {
     "data": {
      "text/plain": [
       "dateRep                    datetime64[ns]\n",
       "day                                 int64\n",
       "month                               int64\n",
       "year                                int64\n",
       "cases                               int64\n",
       "deaths                              int64\n",
       "countriesAndTerritories            object\n",
       "geoId                              object\n",
       "countryterritoryCode               object\n",
       "popData2018                       float64\n",
       "continentExp                       object\n",
       "dtype: object"
      ]
     },
     "execution_count": 197,
     "metadata": {},
     "output_type": "execute_result"
    }
   ],
   "source": [
    "data.dtypes"
   ]
  },
  {
   "cell_type": "markdown",
   "metadata": {},
   "source": [
    "Nun ist zu sehen, dass die erste Spalte ihr korrektes Datumsformat besitzt. Im Folgenden kann man sich den Kopf\n",
    "des Datensatzes nochmals ansehen"
   ]
  },
  {
   "cell_type": "code",
   "execution_count": 198,
   "metadata": {},
   "outputs": [
    {
     "data": {
      "text/html": [
       "<div>\n",
       "<style scoped>\n",
       "    .dataframe tbody tr th:only-of-type {\n",
       "        vertical-align: middle;\n",
       "    }\n",
       "\n",
       "    .dataframe tbody tr th {\n",
       "        vertical-align: top;\n",
       "    }\n",
       "\n",
       "    .dataframe thead th {\n",
       "        text-align: right;\n",
       "    }\n",
       "</style>\n",
       "<table border=\"1\" class=\"dataframe\">\n",
       "  <thead>\n",
       "    <tr style=\"text-align: right;\">\n",
       "      <th></th>\n",
       "      <th>dateRep</th>\n",
       "      <th>day</th>\n",
       "      <th>month</th>\n",
       "      <th>year</th>\n",
       "      <th>cases</th>\n",
       "      <th>deaths</th>\n",
       "      <th>countriesAndTerritories</th>\n",
       "      <th>geoId</th>\n",
       "      <th>countryterritoryCode</th>\n",
       "      <th>popData2018</th>\n",
       "      <th>continentExp</th>\n",
       "    </tr>\n",
       "  </thead>\n",
       "  <tbody>\n",
       "    <tr>\n",
       "      <th>0</th>\n",
       "      <td>2020-05-13</td>\n",
       "      <td>13</td>\n",
       "      <td>5</td>\n",
       "      <td>2020</td>\n",
       "      <td>280</td>\n",
       "      <td>5</td>\n",
       "      <td>Afghanistan</td>\n",
       "      <td>AF</td>\n",
       "      <td>AFG</td>\n",
       "      <td>37172386.0</td>\n",
       "      <td>Asia</td>\n",
       "    </tr>\n",
       "    <tr>\n",
       "      <th>1</th>\n",
       "      <td>2020-12-05</td>\n",
       "      <td>12</td>\n",
       "      <td>5</td>\n",
       "      <td>2020</td>\n",
       "      <td>285</td>\n",
       "      <td>2</td>\n",
       "      <td>Afghanistan</td>\n",
       "      <td>AF</td>\n",
       "      <td>AFG</td>\n",
       "      <td>37172386.0</td>\n",
       "      <td>Asia</td>\n",
       "    </tr>\n",
       "    <tr>\n",
       "      <th>2</th>\n",
       "      <td>2020-11-05</td>\n",
       "      <td>11</td>\n",
       "      <td>5</td>\n",
       "      <td>2020</td>\n",
       "      <td>369</td>\n",
       "      <td>5</td>\n",
       "      <td>Afghanistan</td>\n",
       "      <td>AF</td>\n",
       "      <td>AFG</td>\n",
       "      <td>37172386.0</td>\n",
       "      <td>Asia</td>\n",
       "    </tr>\n",
       "    <tr>\n",
       "      <th>3</th>\n",
       "      <td>2020-10-05</td>\n",
       "      <td>10</td>\n",
       "      <td>5</td>\n",
       "      <td>2020</td>\n",
       "      <td>255</td>\n",
       "      <td>6</td>\n",
       "      <td>Afghanistan</td>\n",
       "      <td>AF</td>\n",
       "      <td>AFG</td>\n",
       "      <td>37172386.0</td>\n",
       "      <td>Asia</td>\n",
       "    </tr>\n",
       "    <tr>\n",
       "      <th>4</th>\n",
       "      <td>2020-09-05</td>\n",
       "      <td>9</td>\n",
       "      <td>5</td>\n",
       "      <td>2020</td>\n",
       "      <td>215</td>\n",
       "      <td>3</td>\n",
       "      <td>Afghanistan</td>\n",
       "      <td>AF</td>\n",
       "      <td>AFG</td>\n",
       "      <td>37172386.0</td>\n",
       "      <td>Asia</td>\n",
       "    </tr>\n",
       "  </tbody>\n",
       "</table>\n",
       "</div>"
      ],
      "text/plain": [
       "     dateRep  day  month  year  cases  deaths countriesAndTerritories geoId  \\\n",
       "0 2020-05-13   13      5  2020    280       5             Afghanistan    AF   \n",
       "1 2020-12-05   12      5  2020    285       2             Afghanistan    AF   \n",
       "2 2020-11-05   11      5  2020    369       5             Afghanistan    AF   \n",
       "3 2020-10-05   10      5  2020    255       6             Afghanistan    AF   \n",
       "4 2020-09-05    9      5  2020    215       3             Afghanistan    AF   \n",
       "\n",
       "  countryterritoryCode  popData2018 continentExp  \n",
       "0                  AFG   37172386.0         Asia  \n",
       "1                  AFG   37172386.0         Asia  \n",
       "2                  AFG   37172386.0         Asia  \n",
       "3                  AFG   37172386.0         Asia  \n",
       "4                  AFG   37172386.0         Asia  "
      ]
     },
     "execution_count": 198,
     "metadata": {},
     "output_type": "execute_result"
    }
   ],
   "source": [
    "data.head()"
   ]
  },
  {
   "cell_type": "markdown",
   "metadata": {},
   "source": [
    "### 2.2.2) Null-Werte"
   ]
  },
  {
   "cell_type": "markdown",
   "metadata": {},
   "source": [
    "Wie bereits zu Beginn vermutet, sind in den Attributen 'geoID','countriesAndTerritories','popData2018' missing values\n",
    "enthalten. Dies wird anhand des folgenden Befehls geprüft."
   ]
  },
  {
   "cell_type": "code",
   "execution_count": 199,
   "metadata": {},
   "outputs": [
    {
     "name": "stdout",
     "output_type": "stream",
     "text": [
      "dateRep                      0\n",
      "day                          0\n",
      "month                        0\n",
      "year                         0\n",
      "cases                        0\n",
      "deaths                       0\n",
      "countriesAndTerritories      0\n",
      "geoId                       60\n",
      "countryterritoryCode       212\n",
      "popData2018                201\n",
      "continentExp                 0\n",
      "dtype: int64\n"
     ]
    }
   ],
   "source": [
    "print(data.isnull().sum())"
   ]
  },
  {
   "cell_type": "markdown",
   "metadata": {},
   "source": [
    "Anschließend ist zu klären wie mit diesen Werten umgegangen werden soll. Hierbei bestehen verschiedene Möglichkeiten,\n",
    "wie z.B. das Auffüllen anhand vorhandener Daten (Gleichen Wert kopieren, Mittelwerte, letzten Wert usw.) oder mit\n",
    "einem \"radikalen\" Schritt die Daten zu löschen. Da es sich - abgesehen von den Bevölkerungsdaten - bei den fehlenden Werten vor allem um Abkürzungen und Kürzel handelt,\n",
    "werden die Missing Values in diesem Fall unverändert belassen, da wichtige Werte wie Todesrate und Fallzahlen weiter\n",
    "enthalten sind. Hierbei müsste Python im besten Fall noch gesagt werden wie mit diesen Werten umzugehen ist."
   ]
  },
  {
   "cell_type": "markdown",
   "metadata": {},
   "source": [
    "### 2.2.3) Korrelationsanalyse"
   ]
  },
  {
   "cell_type": "code",
   "execution_count": 200,
   "metadata": {},
   "outputs": [
    {
     "data": {
      "text/html": [
       "<div>\n",
       "<style scoped>\n",
       "    .dataframe tbody tr th:only-of-type {\n",
       "        vertical-align: middle;\n",
       "    }\n",
       "\n",
       "    .dataframe tbody tr th {\n",
       "        vertical-align: top;\n",
       "    }\n",
       "\n",
       "    .dataframe thead th {\n",
       "        text-align: right;\n",
       "    }\n",
       "</style>\n",
       "<table border=\"1\" class=\"dataframe\">\n",
       "  <thead>\n",
       "    <tr style=\"text-align: right;\">\n",
       "      <th></th>\n",
       "      <th>day</th>\n",
       "      <th>month</th>\n",
       "      <th>year</th>\n",
       "      <th>cases</th>\n",
       "      <th>deaths</th>\n",
       "      <th>popData2018</th>\n",
       "    </tr>\n",
       "  </thead>\n",
       "  <tbody>\n",
       "    <tr>\n",
       "      <th>day</th>\n",
       "      <td>1.000000</td>\n",
       "      <td>-0.177092</td>\n",
       "      <td>-0.112038</td>\n",
       "      <td>-0.009823</td>\n",
       "      <td>-0.006532</td>\n",
       "      <td>-0.005263</td>\n",
       "    </tr>\n",
       "    <tr>\n",
       "      <th>month</th>\n",
       "      <td>-0.177092</td>\n",
       "      <td>1.000000</td>\n",
       "      <td>-0.406170</td>\n",
       "      <td>0.078179</td>\n",
       "      <td>0.074135</td>\n",
       "      <td>-0.088092</td>\n",
       "    </tr>\n",
       "    <tr>\n",
       "      <th>year</th>\n",
       "      <td>-0.112038</td>\n",
       "      <td>-0.406170</td>\n",
       "      <td>1.000000</td>\n",
       "      <td>0.009647</td>\n",
       "      <td>0.008814</td>\n",
       "      <td>-0.011740</td>\n",
       "    </tr>\n",
       "    <tr>\n",
       "      <th>cases</th>\n",
       "      <td>-0.009823</td>\n",
       "      <td>0.078179</td>\n",
       "      <td>0.009647</td>\n",
       "      <td>1.000000</td>\n",
       "      <td>0.845443</td>\n",
       "      <td>0.130466</td>\n",
       "    </tr>\n",
       "    <tr>\n",
       "      <th>deaths</th>\n",
       "      <td>-0.006532</td>\n",
       "      <td>0.074135</td>\n",
       "      <td>0.008814</td>\n",
       "      <td>0.845443</td>\n",
       "      <td>1.000000</td>\n",
       "      <td>0.094093</td>\n",
       "    </tr>\n",
       "    <tr>\n",
       "      <th>popData2018</th>\n",
       "      <td>-0.005263</td>\n",
       "      <td>-0.088092</td>\n",
       "      <td>-0.011740</td>\n",
       "      <td>0.130466</td>\n",
       "      <td>0.094093</td>\n",
       "      <td>1.000000</td>\n",
       "    </tr>\n",
       "  </tbody>\n",
       "</table>\n",
       "</div>"
      ],
      "text/plain": [
       "                  day     month      year     cases    deaths  popData2018\n",
       "day          1.000000 -0.177092 -0.112038 -0.009823 -0.006532    -0.005263\n",
       "month       -0.177092  1.000000 -0.406170  0.078179  0.074135    -0.088092\n",
       "year        -0.112038 -0.406170  1.000000  0.009647  0.008814    -0.011740\n",
       "cases       -0.009823  0.078179  0.009647  1.000000  0.845443     0.130466\n",
       "deaths      -0.006532  0.074135  0.008814  0.845443  1.000000     0.094093\n",
       "popData2018 -0.005263 -0.088092 -0.011740  0.130466  0.094093     1.000000"
      ]
     },
     "execution_count": 200,
     "metadata": {},
     "output_type": "execute_result"
    }
   ],
   "source": [
    "correlation = data.corr()\n",
    "correlation"
   ]
  },
  {
   "cell_type": "markdown",
   "metadata": {},
   "source": [
    "Zur Beurteilung der Aussagekraft der verschiedenen Attribute (Features) wird eine Korrelationsanalyse durchgeführt. Aufgrund der recht überschaubaren Anzahl an Dimensionen ist dies bei dem vorhandenen Datensatz nicht zwingend notwendig, da mit steigender Anzahl an Attributen auch die Chance steigt, dass zussamenhängende Attribute vorhanden sind, welche den Datensatz unnötigerweise komplex machen. Diese könnten dann z.B. mithilfe einer PCA zu \"künstlichen\" Attributen zusammengefasst werden, was allerdings auf komplexere Verfahren wie ...... abzielt.\n",
    "\n",
    "Dennoch ist eine Korrelationsanalyse hier interessant, da wir sehen, dass erwartungsgemäß die Höhe der Fallzahl stark mit der Zahl der Todesfälle korrelliert. Dies scheint in gewisser Weise offensichtlich, kann aber beispielsweise helfen die Daten zu validieren. Sollte dieser Zusammenhang hier nicht bestehen, müssten wir uns die Frage stellen, woran das liegt und ob unsere Daten ggf. qualitativ hochwertig sind.\n",
    "Ebenfalls interessant zu sehen ist, dass weder die Fälle der Erkrankten, noch die Zahl der Todesfälle mit der Bevökerungsanzahl der einzelnen Länder korreliert"
   ]
  },
  {
   "cell_type": "markdown",
   "metadata": {},
   "source": [
    "Bei komplexeren Datensätzen können die Zusammenhangsmaße zudem mithilfe einer Heatmap visualisiert und somit leichter\n",
    "ausfindig gemacht werden:"
   ]
  },
  {
   "cell_type": "code",
   "execution_count": 204,
   "metadata": {},
   "outputs": [
    {
     "data": {
      "text/plain": [
       "<matplotlib.axes._subplots.AxesSubplot at 0xb65abf0>"
      ]
     },
     "execution_count": 204,
     "metadata": {},
     "output_type": "execute_result"
    },
    {
     "data": {
      "image/png": "[encoded data removed]",
      "text/plain": [
       "<Figure size 1080x1080 with 2 Axes>"
      ]
     },
     "metadata": {},
     "output_type": "display_data"
    }
   ],
   "source": [
    "fig, ax = plt.subplots(figsize=(15,15))\n",
    "\n",
    "sns.heatmap(correlation,\n",
    "xticklabels=correlation.columns,\n",
    "yticklabels=correlation.columns,\n",
    "ax=ax)"
   ]
  },
  {
   "cell_type": "markdown",
   "metadata": {},
   "source": [
    "# 3.) Analyse des Datensatzes"
   ]
  },
  {
   "cell_type": "markdown",
   "metadata": {},
   "source": [
    "In der folgenden Analyse des Datensatzes wird nun zum einen eine Zeitpunktbetrachtung durchgeführt, die den aktuellen\n",
    "Stand (hier 15.05.2020) der einzelnen Länder in der Covid-19-Krise wiedergibt (Um den Zeitpunkt auf einen aktuelleren\n",
    "Tag zu updaten, einfach den aktuellen Datensatz herunterladen, einlesen und das heutige Datum ändern).\n",
    "\n",
    "Zum Anderen findet nachfolgend eine Zeitreihenanalyse statt, die die Entwicklung einzelner Gebiete darstellt."
   ]
  },
  {
   "cell_type": "markdown",
   "metadata": {},
   "source": [
    "## 3.1) Zeitpunktbetrachtung"
   ]
  },
  {
   "cell_type": "markdown",
   "metadata": {},
   "source": [
    "Der Filterung des Datensatzes zur Zeitpunktbetrachtung sieht wie folgt aus:"
   ]
  },
  {
   "cell_type": "code",
   "execution_count": 206,
   "metadata": {},
   "outputs": [
    {
     "data": {
      "text/html": [
       "<div>\n",
       "<style scoped>\n",
       "    .dataframe tbody tr th:only-of-type {\n",
       "        vertical-align: middle;\n",
       "    }\n",
       "\n",
       "    .dataframe tbody tr th {\n",
       "        vertical-align: top;\n",
       "    }\n",
       "\n",
       "    .dataframe thead th {\n",
       "        text-align: right;\n",
       "    }\n",
       "</style>\n",
       "<table border=\"1\" class=\"dataframe\">\n",
       "  <thead>\n",
       "    <tr style=\"text-align: right;\">\n",
       "      <th></th>\n",
       "      <th>dateRep</th>\n",
       "      <th>day</th>\n",
       "      <th>month</th>\n",
       "      <th>year</th>\n",
       "      <th>cases</th>\n",
       "      <th>deaths</th>\n",
       "      <th>countriesAndTerritories</th>\n",
       "      <th>geoId</th>\n",
       "      <th>countryterritoryCode</th>\n",
       "      <th>popData2018</th>\n",
       "      <th>continentExp</th>\n",
       "    </tr>\n",
       "  </thead>\n",
       "  <tbody>\n",
       "    <tr>\n",
       "      <th>0</th>\n",
       "      <td>2020-05-13</td>\n",
       "      <td>13</td>\n",
       "      <td>5</td>\n",
       "      <td>2020</td>\n",
       "      <td>280</td>\n",
       "      <td>5</td>\n",
       "      <td>Afghanistan</td>\n",
       "      <td>AF</td>\n",
       "      <td>AFG</td>\n",
       "      <td>37172386.0</td>\n",
       "      <td>Asia</td>\n",
       "    </tr>\n",
       "    <tr>\n",
       "      <th>125</th>\n",
       "      <td>2020-05-13</td>\n",
       "      <td>13</td>\n",
       "      <td>5</td>\n",
       "      <td>2020</td>\n",
       "      <td>4</td>\n",
       "      <td>0</td>\n",
       "      <td>Albania</td>\n",
       "      <td>AL</td>\n",
       "      <td>ALB</td>\n",
       "      <td>2866376.0</td>\n",
       "      <td>Europe</td>\n",
       "    </tr>\n",
       "    <tr>\n",
       "      <th>191</th>\n",
       "      <td>2020-05-13</td>\n",
       "      <td>13</td>\n",
       "      <td>5</td>\n",
       "      <td>2020</td>\n",
       "      <td>176</td>\n",
       "      <td>8</td>\n",
       "      <td>Algeria</td>\n",
       "      <td>DZ</td>\n",
       "      <td>DZA</td>\n",
       "      <td>42228429.0</td>\n",
       "      <td>Africa</td>\n",
       "    </tr>\n",
       "    <tr>\n",
       "      <th>321</th>\n",
       "      <td>2020-05-13</td>\n",
       "      <td>13</td>\n",
       "      <td>5</td>\n",
       "      <td>2020</td>\n",
       "      <td>2</td>\n",
       "      <td>0</td>\n",
       "      <td>Andorra</td>\n",
       "      <td>AD</td>\n",
       "      <td>AND</td>\n",
       "      <td>77006.0</td>\n",
       "      <td>Europe</td>\n",
       "    </tr>\n",
       "    <tr>\n",
       "      <th>382</th>\n",
       "      <td>2020-05-13</td>\n",
       "      <td>13</td>\n",
       "      <td>5</td>\n",
       "      <td>2020</td>\n",
       "      <td>0</td>\n",
       "      <td>0</td>\n",
       "      <td>Angola</td>\n",
       "      <td>AO</td>\n",
       "      <td>AGO</td>\n",
       "      <td>30809762.0</td>\n",
       "      <td>Africa</td>\n",
       "    </tr>\n",
       "  </tbody>\n",
       "</table>\n",
       "</div>"
      ],
      "text/plain": [
       "       dateRep  day  month  year  cases  deaths countriesAndTerritories geoId  \\\n",
       "0   2020-05-13   13      5  2020    280       5             Afghanistan    AF   \n",
       "125 2020-05-13   13      5  2020      4       0                 Albania    AL   \n",
       "191 2020-05-13   13      5  2020    176       8                 Algeria    DZ   \n",
       "321 2020-05-13   13      5  2020      2       0                 Andorra    AD   \n",
       "382 2020-05-13   13      5  2020      0       0                  Angola    AO   \n",
       "\n",
       "    countryterritoryCode  popData2018 continentExp  \n",
       "0                    AFG   37172386.0         Asia  \n",
       "125                  ALB    2866376.0       Europe  \n",
       "191                  DZA   42228429.0       Africa  \n",
       "321                  AND      77006.0       Europe  \n",
       "382                  AGO   30809762.0       Africa  "
      ]
     },
     "execution_count": 206,
     "metadata": {},
     "output_type": "execute_result"
    }
   ],
   "source": [
    "today = data[data['dateRep'] == '2020-05-13']\n",
    "todaysum_continent = data.groupby('continentExp').sum()\n",
    "todaysum_country = data.groupby('countriesAndTerritories').sum()\n",
    "today.head()\n"
   ]
  },
  {
   "cell_type": "markdown",
   "metadata": {},
   "source": [
    "Anhand des oben gezeigten Datensatzes könnte nun untersucht werden, wie sich die Fallzahlen am \"heutigen\" Tag\n",
    "verändert haben.\n",
    "\n",
    "Uns interessieren jedoch vielmehr die aggregierten Fallzahlen bis zum \"heutigen\" Tag, weshalb wir die Daten kontinent- bzw. länderweise aufsummieren."
   ]
  },
  {
   "cell_type": "code",
   "execution_count": 207,
   "metadata": {},
   "outputs": [
    {
     "data": {
      "text/html": [
       "<div>\n",
       "<style scoped>\n",
       "    .dataframe tbody tr th:only-of-type {\n",
       "        vertical-align: middle;\n",
       "    }\n",
       "\n",
       "    .dataframe tbody tr th {\n",
       "        vertical-align: top;\n",
       "    }\n",
       "\n",
       "    .dataframe thead th {\n",
       "        text-align: right;\n",
       "    }\n",
       "</style>\n",
       "<table border=\"1\" class=\"dataframe\">\n",
       "  <thead>\n",
       "    <tr style=\"text-align: right;\">\n",
       "      <th></th>\n",
       "      <th>day</th>\n",
       "      <th>month</th>\n",
       "      <th>year</th>\n",
       "      <th>cases</th>\n",
       "      <th>deaths</th>\n",
       "      <th>popData2018</th>\n",
       "    </tr>\n",
       "    <tr>\n",
       "      <th>continentExp</th>\n",
       "      <th></th>\n",
       "      <th></th>\n",
       "      <th></th>\n",
       "      <th></th>\n",
       "      <th></th>\n",
       "      <th></th>\n",
       "    </tr>\n",
       "  </thead>\n",
       "  <tbody>\n",
       "    <tr>\n",
       "      <th>Africa</th>\n",
       "      <td>48477</td>\n",
       "      <td>12177</td>\n",
       "      <td>6377137</td>\n",
       "      <td>69504</td>\n",
       "      <td>2403</td>\n",
       "      <td>9.709956e+10</td>\n",
       "    </tr>\n",
       "    <tr>\n",
       "      <th>America</th>\n",
       "      <td>48872</td>\n",
       "      <td>11847</td>\n",
       "      <td>6463994</td>\n",
       "      <td>1845638</td>\n",
       "      <td>110714</td>\n",
       "      <td>1.146367e+11</td>\n",
       "    </tr>\n",
       "    <tr>\n",
       "      <th>Asia</th>\n",
       "      <td>64903</td>\n",
       "      <td>13128</td>\n",
       "      <td>8625375</td>\n",
       "      <td>695846</td>\n",
       "      <td>22774</td>\n",
       "      <td>5.595704e+11</td>\n",
       "    </tr>\n",
       "    <tr>\n",
       "      <th>Europe</th>\n",
       "      <td>82952</td>\n",
       "      <td>16972</td>\n",
       "      <td>11049370</td>\n",
       "      <td>1602977</td>\n",
       "      <td>155496</td>\n",
       "      <td>9.305629e+10</td>\n",
       "    </tr>\n",
       "    <tr>\n",
       "      <th>Oceania</th>\n",
       "      <td>8824</td>\n",
       "      <td>2024</td>\n",
       "      <td>1171598</td>\n",
       "      <td>8386</td>\n",
       "      <td>125</td>\n",
       "      <td>4.545551e+09</td>\n",
       "    </tr>\n",
       "  </tbody>\n",
       "</table>\n",
       "</div>"
      ],
      "text/plain": [
       "                day  month      year    cases  deaths   popData2018\n",
       "continentExp                                                       \n",
       "Africa        48477  12177   6377137    69504    2403  9.709956e+10\n",
       "America       48872  11847   6463994  1845638  110714  1.146367e+11\n",
       "Asia          64903  13128   8625375   695846   22774  5.595704e+11\n",
       "Europe        82952  16972  11049370  1602977  155496  9.305629e+10\n",
       "Oceania        8824   2024   1171598     8386     125  4.545551e+09"
      ]
     },
     "execution_count": 207,
     "metadata": {},
     "output_type": "execute_result"
    }
   ],
   "source": [
    "todaysum_continent.head()"
   ]
  },
  {
   "cell_type": "code",
   "execution_count": 208,
   "metadata": {},
   "outputs": [
    {
     "data": {
      "text/html": [
       "<div>\n",
       "<style scoped>\n",
       "    .dataframe tbody tr th:only-of-type {\n",
       "        vertical-align: middle;\n",
       "    }\n",
       "\n",
       "    .dataframe tbody tr th {\n",
       "        vertical-align: top;\n",
       "    }\n",
       "\n",
       "    .dataframe thead th {\n",
       "        text-align: right;\n",
       "    }\n",
       "</style>\n",
       "<table border=\"1\" class=\"dataframe\">\n",
       "  <thead>\n",
       "    <tr style=\"text-align: right;\">\n",
       "      <th></th>\n",
       "      <th>day</th>\n",
       "      <th>month</th>\n",
       "      <th>year</th>\n",
       "      <th>cases</th>\n",
       "      <th>deaths</th>\n",
       "      <th>popData2018</th>\n",
       "    </tr>\n",
       "    <tr>\n",
       "      <th>countriesAndTerritories</th>\n",
       "      <th></th>\n",
       "      <th></th>\n",
       "      <th></th>\n",
       "      <th></th>\n",
       "      <th></th>\n",
       "      <th></th>\n",
       "    </tr>\n",
       "  </thead>\n",
       "  <tbody>\n",
       "    <tr>\n",
       "      <th>Afghanistan</th>\n",
       "      <td>1931</td>\n",
       "      <td>349</td>\n",
       "      <td>252499</td>\n",
       "      <td>4967</td>\n",
       "      <td>127</td>\n",
       "      <td>4.646548e+09</td>\n",
       "    </tr>\n",
       "    <tr>\n",
       "      <th>Albania</th>\n",
       "      <td>1016</td>\n",
       "      <td>254</td>\n",
       "      <td>133320</td>\n",
       "      <td>876</td>\n",
       "      <td>31</td>\n",
       "      <td>1.891808e+08</td>\n",
       "    </tr>\n",
       "    <tr>\n",
       "      <th>Algeria</th>\n",
       "      <td>1975</td>\n",
       "      <td>364</td>\n",
       "      <td>262599</td>\n",
       "      <td>6067</td>\n",
       "      <td>515</td>\n",
       "      <td>5.489696e+09</td>\n",
       "    </tr>\n",
       "    <tr>\n",
       "      <th>Andorra</th>\n",
       "      <td>949</td>\n",
       "      <td>239</td>\n",
       "      <td>123220</td>\n",
       "      <td>758</td>\n",
       "      <td>48</td>\n",
       "      <td>4.697366e+06</td>\n",
       "    </tr>\n",
       "    <tr>\n",
       "      <th>Angola</th>\n",
       "      <td>821</td>\n",
       "      <td>215</td>\n",
       "      <td>107060</td>\n",
       "      <td>45</td>\n",
       "      <td>2</td>\n",
       "      <td>1.632917e+09</td>\n",
       "    </tr>\n",
       "  </tbody>\n",
       "</table>\n",
       "</div>"
      ],
      "text/plain": [
       "                          day  month    year  cases  deaths   popData2018\n",
       "countriesAndTerritories                                                  \n",
       "Afghanistan              1931    349  252499   4967     127  4.646548e+09\n",
       "Albania                  1016    254  133320    876      31  1.891808e+08\n",
       "Algeria                  1975    364  262599   6067     515  5.489696e+09\n",
       "Andorra                   949    239  123220    758      48  4.697366e+06\n",
       "Angola                    821    215  107060     45       2  1.632917e+09"
      ]
     },
     "execution_count": 208,
     "metadata": {},
     "output_type": "execute_result"
    }
   ],
   "source": [
    "todaysum_country.head()"
   ]
  },
  {
   "cell_type": "markdown",
   "metadata": {},
   "source": [
    "Zur genaueren Untersuchung des Datensatzes werden folgend grundlegende Lage- und Streuparamter untersucht:"
   ]
  },
  {
   "cell_type": "code",
   "execution_count": 209,
   "metadata": {},
   "outputs": [
    {
     "data": {
      "text/plain": [
       "20205.966507177032"
      ]
     },
     "execution_count": 209,
     "metadata": {},
     "output_type": "execute_result"
    }
   ],
   "source": [
    "todaysum_country['cases'].mean()"
   ]
  },
  {
   "cell_type": "code",
   "execution_count": 210,
   "metadata": {},
   "outputs": [
    {
     "data": {
      "text/plain": [
       "854.0"
      ]
     },
     "execution_count": 210,
     "metadata": {},
     "output_type": "execute_result"
    }
   ],
   "source": [
    "todaysum_country['cases'].median()"
   ]
  },
  {
   "cell_type": "code",
   "execution_count": 211,
   "metadata": {},
   "outputs": [
    {
     "data": {
      "text/plain": [
       "101754.72781278362"
      ]
     },
     "execution_count": 211,
     "metadata": {},
     "output_type": "execute_result"
    }
   ],
   "source": [
    "todaysum_country['cases'].std()"
   ]
  },
  {
   "cell_type": "code",
   "execution_count": 212,
   "metadata": {},
   "outputs": [
    {
     "data": {
      "text/plain": [
       "1369964"
      ]
     },
     "execution_count": 212,
     "metadata": {},
     "output_type": "execute_result"
    }
   ],
   "source": [
    "todaysum_country['cases'].max()"
   ]
  },
  {
   "cell_type": "code",
   "execution_count": 213,
   "metadata": {},
   "outputs": [
    {
     "data": {
      "text/plain": [
       "1394.8277511961724"
      ]
     },
     "execution_count": 213,
     "metadata": {},
     "output_type": "execute_result"
    }
   ],
   "source": [
    "todaysum_country['deaths'].mean()"
   ]
  },
  {
   "cell_type": "code",
   "execution_count": 214,
   "metadata": {},
   "outputs": [
    {
     "data": {
      "text/plain": [
       "19.0"
      ]
     },
     "execution_count": 214,
     "metadata": {},
     "output_type": "execute_result"
    }
   ],
   "source": [
    "todaysum_country['deaths'].median()"
   ]
  },
  {
   "cell_type": "code",
   "execution_count": 215,
   "metadata": {},
   "outputs": [
    {
     "data": {
      "text/plain": [
       "7052.75521918393"
      ]
     },
     "execution_count": 215,
     "metadata": {},
     "output_type": "execute_result"
    }
   ],
   "source": [
    "todaysum_country['deaths'].std()"
   ]
  },
  {
   "cell_type": "code",
   "execution_count": 216,
   "metadata": {},
   "outputs": [
    {
     "data": {
      "text/plain": [
       "82387"
      ]
     },
     "execution_count": 216,
     "metadata": {},
     "output_type": "execute_result"
    }
   ],
   "source": [
    "todaysum_country['deaths'].max()"
   ]
  },
  {
   "cell_type": "markdown",
   "metadata": {},
   "source": [
    "Auffällig hierbei ist, dass Mittelwert und Median vor allem bei den Erkrankungszahlen deutlich voneinander abweichen, \n",
    "was möglicherweise für die Anwesenheit von Ausreißern spricht. Um dies genauer zu untersuchen, wird ein Boxplot erstellt:"
   ]
  },
  {
   "cell_type": "code",
   "execution_count": 217,
   "metadata": {},
   "outputs": [
    {
     "data": {
      "text/plain": [
       "deaths       AxesSubplot(0.125,0.125;0.352273x0.755)\n",
       "cases     AxesSubplot(0.547727,0.125;0.352273x0.755)\n",
       "dtype: object"
      ]
     },
     "execution_count": 217,
     "metadata": {},
     "output_type": "execute_result"
    },
    {
     "data": {
      "image/png": "[encoded data removed]",
      "text/plain": [
       "<Figure size 432x288 with 2 Axes>"
      ]
     },
     "metadata": {},
     "output_type": "display_data"
    }
   ],
   "source": [
    "cols = ['deaths','cases']\n",
    "todaysum_country[cols].plot(kind='box', subplots=True)"
   ]
  },
  {
   "cell_type": "markdown",
   "metadata": {},
   "source": [
    "Sowohl Fallzahlen als auch Todesfälle enthalten starke Ausreißer nach oben, was bedeutet, dass es vor allem einige\n",
    "wenige, stark betroffende Länder gibt. Dies zeigen ebenfalls die Maximalzahlen an.\n",
    "\n",
    "Daher folgt nun eine Wertesortierung mit den Top10-Ländern der höchsten Fall- bzw. Todeszahlen:"
   ]
  },
  {
   "cell_type": "code",
   "execution_count": 218,
   "metadata": {},
   "outputs": [],
   "source": [
    "today_cases = todaysum_country[['cases','deaths','popData2018']]\n",
    "today_deaths = todaysum_country[['deaths','cases','popData2018']]\n"
   ]
  },
  {
   "cell_type": "code",
   "execution_count": 219,
   "metadata": {},
   "outputs": [
    {
     "data": {
      "text/html": [
       "<div>\n",
       "<style scoped>\n",
       "    .dataframe tbody tr th:only-of-type {\n",
       "        vertical-align: middle;\n",
       "    }\n",
       "\n",
       "    .dataframe tbody tr th {\n",
       "        vertical-align: top;\n",
       "    }\n",
       "\n",
       "    .dataframe thead th {\n",
       "        text-align: right;\n",
       "    }\n",
       "</style>\n",
       "<table border=\"1\" class=\"dataframe\">\n",
       "  <thead>\n",
       "    <tr style=\"text-align: right;\">\n",
       "      <th></th>\n",
       "      <th>cases</th>\n",
       "      <th>deaths</th>\n",
       "      <th>popData2018</th>\n",
       "    </tr>\n",
       "    <tr>\n",
       "      <th>countriesAndTerritories</th>\n",
       "      <th></th>\n",
       "      <th></th>\n",
       "      <th></th>\n",
       "    </tr>\n",
       "  </thead>\n",
       "  <tbody>\n",
       "    <tr>\n",
       "      <th>United_States_of_America</th>\n",
       "      <td>1369964</td>\n",
       "      <td>82387</td>\n",
       "      <td>4.416760e+10</td>\n",
       "    </tr>\n",
       "    <tr>\n",
       "      <th>Russia</th>\n",
       "      <td>232243</td>\n",
       "      <td>2116</td>\n",
       "      <td>1.950454e+10</td>\n",
       "    </tr>\n",
       "    <tr>\n",
       "      <th>Spain</th>\n",
       "      <td>228030</td>\n",
       "      <td>26920</td>\n",
       "      <td>6.260982e+09</td>\n",
       "    </tr>\n",
       "    <tr>\n",
       "      <th>United_Kingdom</th>\n",
       "      <td>226463</td>\n",
       "      <td>32692</td>\n",
       "      <td>8.976014e+09</td>\n",
       "    </tr>\n",
       "    <tr>\n",
       "      <th>Italy</th>\n",
       "      <td>221216</td>\n",
       "      <td>30911</td>\n",
       "      <td>8.158223e+09</td>\n",
       "    </tr>\n",
       "    <tr>\n",
       "      <th>Brazil</th>\n",
       "      <td>177589</td>\n",
       "      <td>12400</td>\n",
       "      <td>2.827836e+10</td>\n",
       "    </tr>\n",
       "    <tr>\n",
       "      <th>Germany</th>\n",
       "      <td>171306</td>\n",
       "      <td>7634</td>\n",
       "      <td>1.119527e+10</td>\n",
       "    </tr>\n",
       "    <tr>\n",
       "      <th>Turkey</th>\n",
       "      <td>141475</td>\n",
       "      <td>3894</td>\n",
       "      <td>5.021503e+09</td>\n",
       "    </tr>\n",
       "    <tr>\n",
       "      <th>France</th>\n",
       "      <td>140227</td>\n",
       "      <td>26991</td>\n",
       "      <td>9.043278e+09</td>\n",
       "    </tr>\n",
       "    <tr>\n",
       "      <th>Iran</th>\n",
       "      <td>110767</td>\n",
       "      <td>6733</td>\n",
       "      <td>1.104304e+10</td>\n",
       "    </tr>\n",
       "  </tbody>\n",
       "</table>\n",
       "</div>"
      ],
      "text/plain": [
       "                            cases  deaths   popData2018\n",
       "countriesAndTerritories                                \n",
       "United_States_of_America  1369964   82387  4.416760e+10\n",
       "Russia                     232243    2116  1.950454e+10\n",
       "Spain                      228030   26920  6.260982e+09\n",
       "United_Kingdom             226463   32692  8.976014e+09\n",
       "Italy                      221216   30911  8.158223e+09\n",
       "Brazil                     177589   12400  2.827836e+10\n",
       "Germany                    171306    7634  1.119527e+10\n",
       "Turkey                     141475    3894  5.021503e+09\n",
       "France                     140227   26991  9.043278e+09\n",
       "Iran                       110767    6733  1.104304e+10"
      ]
     },
     "execution_count": 219,
     "metadata": {},
     "output_type": "execute_result"
    }
   ],
   "source": [
    "today_cases.sort_values(by=['cases'], ascending=False)[0:10]"
   ]
  },
  {
   "cell_type": "code",
   "execution_count": 220,
   "metadata": {
    "scrolled": true
   },
   "outputs": [
    {
     "data": {
      "text/html": [
       "<div>\n",
       "<style scoped>\n",
       "    .dataframe tbody tr th:only-of-type {\n",
       "        vertical-align: middle;\n",
       "    }\n",
       "\n",
       "    .dataframe tbody tr th {\n",
       "        vertical-align: top;\n",
       "    }\n",
       "\n",
       "    .dataframe thead th {\n",
       "        text-align: right;\n",
       "    }\n",
       "</style>\n",
       "<table border=\"1\" class=\"dataframe\">\n",
       "  <thead>\n",
       "    <tr style=\"text-align: right;\">\n",
       "      <th></th>\n",
       "      <th>deaths</th>\n",
       "      <th>cases</th>\n",
       "      <th>popData2018</th>\n",
       "    </tr>\n",
       "    <tr>\n",
       "      <th>countriesAndTerritories</th>\n",
       "      <th></th>\n",
       "      <th></th>\n",
       "      <th></th>\n",
       "    </tr>\n",
       "  </thead>\n",
       "  <tbody>\n",
       "    <tr>\n",
       "      <th>United_States_of_America</th>\n",
       "      <td>82387</td>\n",
       "      <td>1369964</td>\n",
       "      <td>4.416760e+10</td>\n",
       "    </tr>\n",
       "    <tr>\n",
       "      <th>United_Kingdom</th>\n",
       "      <td>32692</td>\n",
       "      <td>226463</td>\n",
       "      <td>8.976014e+09</td>\n",
       "    </tr>\n",
       "    <tr>\n",
       "      <th>Italy</th>\n",
       "      <td>30911</td>\n",
       "      <td>221216</td>\n",
       "      <td>8.158223e+09</td>\n",
       "    </tr>\n",
       "    <tr>\n",
       "      <th>France</th>\n",
       "      <td>26991</td>\n",
       "      <td>140227</td>\n",
       "      <td>9.043278e+09</td>\n",
       "    </tr>\n",
       "    <tr>\n",
       "      <th>Spain</th>\n",
       "      <td>26920</td>\n",
       "      <td>228030</td>\n",
       "      <td>6.260982e+09</td>\n",
       "    </tr>\n",
       "    <tr>\n",
       "      <th>Brazil</th>\n",
       "      <td>12400</td>\n",
       "      <td>177589</td>\n",
       "      <td>2.827836e+10</td>\n",
       "    </tr>\n",
       "    <tr>\n",
       "      <th>Belgium</th>\n",
       "      <td>8761</td>\n",
       "      <td>53779</td>\n",
       "      <td>1.541979e+09</td>\n",
       "    </tr>\n",
       "    <tr>\n",
       "      <th>Germany</th>\n",
       "      <td>7634</td>\n",
       "      <td>171306</td>\n",
       "      <td>1.119527e+10</td>\n",
       "    </tr>\n",
       "    <tr>\n",
       "      <th>Iran</th>\n",
       "      <td>6733</td>\n",
       "      <td>110767</td>\n",
       "      <td>1.104304e+10</td>\n",
       "    </tr>\n",
       "    <tr>\n",
       "      <th>Netherlands</th>\n",
       "      <td>5510</td>\n",
       "      <td>42984</td>\n",
       "      <td>2.326187e+09</td>\n",
       "    </tr>\n",
       "  </tbody>\n",
       "</table>\n",
       "</div>"
      ],
      "text/plain": [
       "                          deaths    cases   popData2018\n",
       "countriesAndTerritories                                \n",
       "United_States_of_America   82387  1369964  4.416760e+10\n",
       "United_Kingdom             32692   226463  8.976014e+09\n",
       "Italy                      30911   221216  8.158223e+09\n",
       "France                     26991   140227  9.043278e+09\n",
       "Spain                      26920   228030  6.260982e+09\n",
       "Brazil                     12400   177589  2.827836e+10\n",
       "Belgium                     8761    53779  1.541979e+09\n",
       "Germany                     7634   171306  1.119527e+10\n",
       "Iran                        6733   110767  1.104304e+10\n",
       "Netherlands                 5510    42984  2.326187e+09"
      ]
     },
     "execution_count": 220,
     "metadata": {},
     "output_type": "execute_result"
    }
   ],
   "source": [
    "today_deaths.sort_values(by=['deaths'], ascending=False)[0:10]"
   ]
  },
  {
   "cell_type": "code",
   "execution_count": 221,
   "metadata": {},
   "outputs": [
    {
     "data": {
      "text/plain": [
       "Text(0.5,1,'Deaths per Country')"
      ]
     },
     "execution_count": 221,
     "metadata": {},
     "output_type": "execute_result"
    },
    {
     "data": {
      "image/png": "[encoded data removed]",
      "text/plain": [
       "<Figure size 432x288 with 1 Axes>"
      ]
     },
     "metadata": {},
     "output_type": "display_data"
    }
   ],
   "source": [
    "plt.plot(todaysum_country[['deaths']])\n",
    "plt.title('Deaths per Country')"
   ]
  },
  {
   "cell_type": "code",
   "execution_count": 222,
   "metadata": {},
   "outputs": [
    {
     "data": {
      "text/plain": [
       "<matplotlib.axes._subplots.AxesSubplot at 0x116d7490>"
      ]
     },
     "execution_count": 222,
     "metadata": {},
     "output_type": "execute_result"
    },
    {
     "data": {
      "image/png": "[encoded data removed]",
      "text/plain": [
       "<Figure size 432x288 with 1 Axes>"
      ]
     },
     "metadata": {},
     "output_type": "display_data"
    }
   ],
   "source": [
    "todaysum_country.plot(kind='scatter', y='deaths', x='popData2018')"
   ]
  },
  {
   "cell_type": "markdown",
   "metadata": {},
   "source": [
    "Zu sehen ist hier, dass Fall- und Todeszahlen vor allem in großen Ländern besonders hoch sind. Wie wir vorhin\n",
    "gesehen haben, korrelieren diese Zahlen aber nicht zwingend mit der Einwohnerzahl. Für einen besseren Überblick,\n",
    "schauen wir uns daher noch die Top10 der Fallzahlen pro Einwohner an. "
   ]
  },
  {
   "cell_type": "code",
   "execution_count": 223,
   "metadata": {},
   "outputs": [
    {
     "data": {
      "text/html": [
       "<div>\n",
       "<style scoped>\n",
       "    .dataframe tbody tr th:only-of-type {\n",
       "        vertical-align: middle;\n",
       "    }\n",
       "\n",
       "    .dataframe tbody tr th {\n",
       "        vertical-align: top;\n",
       "    }\n",
       "\n",
       "    .dataframe thead th {\n",
       "        text-align: right;\n",
       "    }\n",
       "</style>\n",
       "<table border=\"1\" class=\"dataframe\">\n",
       "  <thead>\n",
       "    <tr style=\"text-align: right;\">\n",
       "      <th></th>\n",
       "      <th>casesperpop</th>\n",
       "      <th>deaths</th>\n",
       "      <th>cases</th>\n",
       "      <th>popData2018</th>\n",
       "    </tr>\n",
       "    <tr>\n",
       "      <th>countriesAndTerritories</th>\n",
       "      <th></th>\n",
       "      <th></th>\n",
       "      <th></th>\n",
       "      <th></th>\n",
       "    </tr>\n",
       "  </thead>\n",
       "  <tbody>\n",
       "    <tr>\n",
       "      <th>United_States_of_America</th>\n",
       "      <td>0.000031</td>\n",
       "      <td>82387</td>\n",
       "      <td>1369964</td>\n",
       "      <td>4.416760e+10</td>\n",
       "    </tr>\n",
       "    <tr>\n",
       "      <th>United_Kingdom</th>\n",
       "      <td>0.000025</td>\n",
       "      <td>32692</td>\n",
       "      <td>226463</td>\n",
       "      <td>8.976014e+09</td>\n",
       "    </tr>\n",
       "    <tr>\n",
       "      <th>Italy</th>\n",
       "      <td>0.000027</td>\n",
       "      <td>30911</td>\n",
       "      <td>221216</td>\n",
       "      <td>8.158223e+09</td>\n",
       "    </tr>\n",
       "    <tr>\n",
       "      <th>France</th>\n",
       "      <td>0.000016</td>\n",
       "      <td>26991</td>\n",
       "      <td>140227</td>\n",
       "      <td>9.043278e+09</td>\n",
       "    </tr>\n",
       "    <tr>\n",
       "      <th>Spain</th>\n",
       "      <td>0.000036</td>\n",
       "      <td>26920</td>\n",
       "      <td>228030</td>\n",
       "      <td>6.260982e+09</td>\n",
       "    </tr>\n",
       "    <tr>\n",
       "      <th>Brazil</th>\n",
       "      <td>0.000006</td>\n",
       "      <td>12400</td>\n",
       "      <td>177589</td>\n",
       "      <td>2.827836e+10</td>\n",
       "    </tr>\n",
       "    <tr>\n",
       "      <th>Belgium</th>\n",
       "      <td>0.000035</td>\n",
       "      <td>8761</td>\n",
       "      <td>53779</td>\n",
       "      <td>1.541979e+09</td>\n",
       "    </tr>\n",
       "    <tr>\n",
       "      <th>Germany</th>\n",
       "      <td>0.000015</td>\n",
       "      <td>7634</td>\n",
       "      <td>171306</td>\n",
       "      <td>1.119527e+10</td>\n",
       "    </tr>\n",
       "    <tr>\n",
       "      <th>Iran</th>\n",
       "      <td>0.000010</td>\n",
       "      <td>6733</td>\n",
       "      <td>110767</td>\n",
       "      <td>1.104304e+10</td>\n",
       "    </tr>\n",
       "    <tr>\n",
       "      <th>Netherlands</th>\n",
       "      <td>0.000018</td>\n",
       "      <td>5510</td>\n",
       "      <td>42984</td>\n",
       "      <td>2.326187e+09</td>\n",
       "    </tr>\n",
       "  </tbody>\n",
       "</table>\n",
       "</div>"
      ],
      "text/plain": [
       "                          casesperpop  deaths    cases   popData2018\n",
       "countriesAndTerritories                                             \n",
       "United_States_of_America     0.000031   82387  1369964  4.416760e+10\n",
       "United_Kingdom               0.000025   32692   226463  8.976014e+09\n",
       "Italy                        0.000027   30911   221216  8.158223e+09\n",
       "France                       0.000016   26991   140227  9.043278e+09\n",
       "Spain                        0.000036   26920   228030  6.260982e+09\n",
       "Brazil                       0.000006   12400   177589  2.827836e+10\n",
       "Belgium                      0.000035    8761    53779  1.541979e+09\n",
       "Germany                      0.000015    7634   171306  1.119527e+10\n",
       "Iran                         0.000010    6733   110767  1.104304e+10\n",
       "Netherlands                  0.000018    5510    42984  2.326187e+09"
      ]
     },
     "execution_count": 223,
     "metadata": {},
     "output_type": "execute_result"
    }
   ],
   "source": [
    "todaysum_country['casesperpop'] = todaysum_country['cases']/todaysum_country['popData2018']\n",
    "today_casesbypop = todaysum_country[['casesperpop','deaths','cases','popData2018']]\n",
    "today_casesbypop.sort_values(by=['deaths'], ascending=False)[0:10]"
   ]
  },
  {
   "cell_type": "markdown",
   "metadata": {},
   "source": [
    "Unter den am stärksten betroffenden Ländern der Covid19-Krise pro Einwohnerzahl sind nach den USA vor allem viele\n",
    "europäische Länder. Ob dies der Realität entspricht oder an mangelnder Intransparenz der Länder liegt, muss an anderer\n",
    "Stelle geklärt werden."
   ]
  },
  {
   "cell_type": "markdown",
   "metadata": {},
   "source": [
    "## 3.2) Zeitreihenbetrachtung "
   ]
  },
  {
   "cell_type": "code",
   "execution_count": 225,
   "metadata": {},
   "outputs": [
    {
     "data": {
      "text/html": [
       "<div>\n",
       "<style scoped>\n",
       "    .dataframe tbody tr th:only-of-type {\n",
       "        vertical-align: middle;\n",
       "    }\n",
       "\n",
       "    .dataframe tbody tr th {\n",
       "        vertical-align: top;\n",
       "    }\n",
       "\n",
       "    .dataframe thead th {\n",
       "        text-align: right;\n",
       "    }\n",
       "</style>\n",
       "<table border=\"1\" class=\"dataframe\">\n",
       "  <thead>\n",
       "    <tr style=\"text-align: right;\">\n",
       "      <th></th>\n",
       "      <th></th>\n",
       "      <th>day</th>\n",
       "      <th>year</th>\n",
       "      <th>cases</th>\n",
       "      <th>deaths</th>\n",
       "      <th>popData2018</th>\n",
       "    </tr>\n",
       "    <tr>\n",
       "      <th>month</th>\n",
       "      <th>countriesAndTerritories</th>\n",
       "      <th></th>\n",
       "      <th></th>\n",
       "      <th></th>\n",
       "      <th></th>\n",
       "      <th></th>\n",
       "    </tr>\n",
       "  </thead>\n",
       "  <tbody>\n",
       "    <tr>\n",
       "      <th rowspan=\"5\" valign=\"top\">1</th>\n",
       "      <th>Afghanistan</th>\n",
       "      <td>496</td>\n",
       "      <td>62620</td>\n",
       "      <td>0</td>\n",
       "      <td>0</td>\n",
       "      <td>1.152344e+09</td>\n",
       "    </tr>\n",
       "    <tr>\n",
       "      <th>Algeria</th>\n",
       "      <td>496</td>\n",
       "      <td>62620</td>\n",
       "      <td>0</td>\n",
       "      <td>0</td>\n",
       "      <td>1.309081e+09</td>\n",
       "    </tr>\n",
       "    <tr>\n",
       "      <th>Armenia</th>\n",
       "      <td>496</td>\n",
       "      <td>62620</td>\n",
       "      <td>0</td>\n",
       "      <td>0</td>\n",
       "      <td>9.150506e+07</td>\n",
       "    </tr>\n",
       "    <tr>\n",
       "      <th>Australia</th>\n",
       "      <td>496</td>\n",
       "      <td>62620</td>\n",
       "      <td>7</td>\n",
       "      <td>0</td>\n",
       "      <td>7.747634e+08</td>\n",
       "    </tr>\n",
       "    <tr>\n",
       "      <th>Austria</th>\n",
       "      <td>496</td>\n",
       "      <td>62620</td>\n",
       "      <td>0</td>\n",
       "      <td>0</td>\n",
       "      <td>2.742581e+08</td>\n",
       "    </tr>\n",
       "  </tbody>\n",
       "</table>\n",
       "</div>"
      ],
      "text/plain": [
       "                               day   year  cases  deaths   popData2018\n",
       "month countriesAndTerritories                                         \n",
       "1     Afghanistan              496  62620      0       0  1.152344e+09\n",
       "      Algeria                  496  62620      0       0  1.309081e+09\n",
       "      Armenia                  496  62620      0       0  9.150506e+07\n",
       "      Australia                496  62620      7       0  7.747634e+08\n",
       "      Austria                  496  62620      0       0  2.742581e+08"
      ]
     },
     "execution_count": 225,
     "metadata": {},
     "output_type": "execute_result"
    }
   ],
   "source": [
    "todaysum_date = data.groupby(['dateRep','countriesAndTerritories']).sum()\n",
    "todaysum_month = data.groupby(['month','countriesAndTerritories']).sum()\n",
    "todaysum_month.head()\n"
   ]
  }
 ],
 "metadata": {
  "kernelspec": {
   "display_name": "Python 2",
   "language": "python",
   "name": "python2"
  },
  "language_info": {
   "codemirror_mode": {
    "name": "ipython",
    "version": 2
   },
   "file_extension": ".py",
   "mimetype": "text/x-python",
   "name": "python",
   "nbconvert_exporter": "python",
   "pygments_lexer": "ipython2",
   "version": "2.7.15"
  }
 },
 "nbformat": 4,
 "nbformat_minor": 2
}

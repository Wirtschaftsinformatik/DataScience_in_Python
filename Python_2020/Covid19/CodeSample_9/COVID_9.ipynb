{
 "cells": [
  {
   "cell_type": "markdown",
   "source": [
    "Autoren: Josephine Leib, Sabrina Lange"
   ],
   "metadata": {
    "collapsed": false
   }
  },
  {
   "cell_type": "markdown",
   "source": [
    "# Packageimport"
   ],
   "metadata": {
    "collapsed": false
   }
  },
  {
   "cell_type": "code",
   "execution_count": 1,
   "outputs": [
    {
     "ename": "ModuleNotFoundError",
     "evalue": "No module named 'pandas'",
     "output_type": "error",
     "traceback": [
      "\u001B[0;31m---------------------------------------------------------------------------\u001B[0m",
      "\u001B[0;31mModuleNotFoundError\u001B[0m                       Traceback (most recent call last)",
      "\u001B[0;32m<ipython-input-1-ad5c147e221b>\u001B[0m in \u001B[0;36m<module>\u001B[0;34m\u001B[0m\n\u001B[0;32m----> 1\u001B[0;31m \u001B[0;32mimport\u001B[0m \u001B[0mpandas\u001B[0m \u001B[0;32mas\u001B[0m \u001B[0mpd\u001B[0m\u001B[0;34m\u001B[0m\u001B[0;34m\u001B[0m\u001B[0m\n\u001B[0m\u001B[1;32m      2\u001B[0m \u001B[0;32mimport\u001B[0m \u001B[0mnumpy\u001B[0m \u001B[0;32mas\u001B[0m \u001B[0mnp\u001B[0m\u001B[0;34m\u001B[0m\u001B[0;34m\u001B[0m\u001B[0m\n\u001B[1;32m      3\u001B[0m \u001B[0;32mimport\u001B[0m \u001B[0mmatplotlib\u001B[0m\u001B[0;34m.\u001B[0m\u001B[0mpyplot\u001B[0m \u001B[0;32mas\u001B[0m \u001B[0mplt\u001B[0m\u001B[0;34m\u001B[0m\u001B[0;34m\u001B[0m\u001B[0m\n\u001B[1;32m      4\u001B[0m \u001B[0;32mimport\u001B[0m \u001B[0mseaborn\u001B[0m \u001B[0;32mas\u001B[0m \u001B[0msns\u001B[0m\u001B[0;34m\u001B[0m\u001B[0;34m\u001B[0m\u001B[0m\n\u001B[1;32m      5\u001B[0m \u001B[0;32mimport\u001B[0m \u001B[0mmatplotlib\u001B[0m\u001B[0;34m.\u001B[0m\u001B[0mlines\u001B[0m \u001B[0;32mas\u001B[0m \u001B[0mmlines\u001B[0m\u001B[0;34m\u001B[0m\u001B[0;34m\u001B[0m\u001B[0m\n",
      "\u001B[0;31mModuleNotFoundError\u001B[0m: No module named 'pandas'"
     ]
    }
   ],
   "source": [
    "import pandas as pd\n",
    "import numpy as np\n",
    "import matplotlib.pyplot as plt\n",
    "import seaborn as sns\n",
    "import matplotlib.lines as mlines\n",
    "from matplotlib import pylab\n",
    "\n",
    "# macht die Plots größer\n",
    "plt.rcParams['figure.figsize'] = (16,8)"
   ],
   "metadata": {
    "collapsed": false,
    "pycharm": {
     "name": "#%%\n"
    }
   }
  },
  {
   "cell_type": "markdown",
   "source": [
    "# Daten einlesen und erkunden"
   ],
   "metadata": {
    "collapsed": false
   }
  },
  {
   "cell_type": "code",
   "execution_count": null,
   "outputs": [],
   "source": [
    "# als Index wird die Spalte \"dateRep\" verwendet, die mithilfe von parse_dates in einen Date-Time-Format umgewandelt wurde\n",
    "# der zusätzliche Parameter dayfirst sorgt dafür, dass der Index im Format YYYY-MM-DD angezeigt wird\n",
    "covid19 = pd.read_csv('Daten.csv', index_col='dateRep', parse_dates=['dateRep'], dayfirst = True)\n",
    "\n",
    "# mithilfe von sort_index() wird sichergestellt, dass der \"älteste\" Eintrag \"oben\" und der jüngste Eintrag am Ende des Dataframes steht\n",
    "covid19 = covid19.sort_index()"
   ],
   "metadata": {
    "collapsed": false,
    "pycharm": {
     "name": "#%%\n"
    }
   }
  },
  {
   "cell_type": "markdown",
   "source": [
    "## Übersicht über die ersten Einträge des Datensatzes"
   ],
   "metadata": {
    "collapsed": false
   }
  },
  {
   "cell_type": "code",
   "execution_count": null,
   "outputs": [],
   "source": [
    "covid19.head()"
   ],
   "metadata": {
    "collapsed": false,
    "pycharm": {
     "name": "#%%\n"
    }
   }
  },
  {
   "cell_type": "markdown",
   "source": [
    "- da die Indexspalte bereits alle notwendigen Datumsinformationen enthält, werden die Spalten \"day\", \"month\" und \"year nicht mehr benötigt und gelöscht"
   ],
   "metadata": {
    "collapsed": false
   }
  },
  {
   "cell_type": "code",
   "execution_count": null,
   "outputs": [],
   "source": [
    "del covid19['day']\n",
    "del covid19['month']\n",
    "del covid19['year']"
   ],
   "metadata": {
    "collapsed": false,
    "pycharm": {
     "name": "#%%\n"
    }
   }
  },
  {
   "cell_type": "markdown",
   "source": [
    "- der veränderte Datensatz hat nun folgende Gestalt"
   ],
   "metadata": {
    "collapsed": false
   }
  },
  {
   "cell_type": "code",
   "execution_count": null,
   "outputs": [],
   "source": [
    "covid19.head()"
   ],
   "metadata": {
    "collapsed": false,
    "pycharm": {
     "name": "#%%\n"
    }
   }
  },
  {
   "cell_type": "markdown",
   "source": [
    "## Informationen zum Datensatz"
   ],
   "metadata": {
    "collapsed": false
   }
  },
  {
   "cell_type": "markdown",
   "source": [
    "- Größe des Datensatzes\n",
    "- Spaltenbezeichnungen\n",
    "- Datentypen\n",
    "- statistische Kennzahlen"
   ],
   "metadata": {
    "collapsed": false
   }
  },
  {
   "cell_type": "code",
   "execution_count": null,
   "outputs": [],
   "source": [
    "print('Der Datensatz hat folgende Größe:\\n' + 'Anzahl Instanzen: ' + str(covid19.shape[0]) + '\\n' + 'Anzahl Spalten:   ' + str(covid19.shape[1]))"
   ],
   "metadata": {
    "collapsed": false,
    "pycharm": {
     "name": "#%%\n"
    }
   }
  },
  {
   "cell_type": "code",
   "execution_count": null,
   "outputs": [],
   "source": [
    "covid19.info()"
   ],
   "metadata": {
    "collapsed": false,
    "pycharm": {
     "name": "#%%\n"
    }
   }
  },
  {
   "cell_type": "markdown",
   "source": [
    "**Auffälligkeiten:**\n",
    "- fehlende Werte in 3 Spalten"
   ],
   "metadata": {
    "collapsed": false
   }
  },
  {
   "cell_type": "code",
   "execution_count": null,
   "outputs": [],
   "source": [
    "covid19.describe()"
   ],
   "metadata": {
    "collapsed": false,
    "pycharm": {
     "name": "#%%\n"
    }
   }
  },
  {
   "cell_type": "markdown",
   "source": [
    "**Auffälligkeiten:**\n",
    "- Minimum in den Spalten 'cases' und 'deaths' ist negativ"
   ],
   "metadata": {
    "collapsed": false
   }
  },
  {
   "cell_type": "markdown",
   "source": [
    "## Überprüfen auf fehlende Werte"
   ],
   "metadata": {
    "collapsed": false
   }
  },
  {
   "cell_type": "code",
   "execution_count": null,
   "outputs": [],
   "source": [
    "missing_values_gesamt = covid19.isnull().sum().to_frame(name = 'Anzahl fehlender Werte')\n",
    "missing_values = missing_values_gesamt[missing_values_gesamt['Anzahl fehlender Werte'] > 0]\n",
    "# Anzeigen der Spalten, bei denen mindestens ein Wert fehlt\n",
    "missing_values"
   ],
   "metadata": {
    "collapsed": false,
    "pycharm": {
     "name": "#%%\n"
    }
   }
  },
  {
   "cell_type": "markdown",
   "source": [
    "### Betrachtung der Spalte 'geoId'"
   ],
   "metadata": {
    "collapsed": false
   }
  },
  {
   "cell_type": "code",
   "execution_count": null,
   "outputs": [],
   "source": [
    "covid19[covid19.geoId.isnull()].head()"
   ],
   "metadata": {
    "collapsed": false,
    "pycharm": {
     "name": "#%%\n"
    }
   }
  },
  {
   "cell_type": "markdown",
   "source": [
    "- Vermutung: fehlende Werte betreffen ausschließlich Namibia\n"
   ],
   "metadata": {
    "collapsed": false
   }
  },
  {
   "cell_type": "code",
   "execution_count": null,
   "outputs": [],
   "source": [
    "# Probe\n",
    "covid19[covid19.countryterritoryCode =='NAM'].shape\n",
    "# --> es gibt 62 Einträge für Namibia"
   ],
   "metadata": {
    "collapsed": false,
    "pycharm": {
     "name": "#%%\n"
    }
   }
  },
  {
   "cell_type": "code",
   "execution_count": null,
   "outputs": [],
   "source": [
    "# Probe\n",
    "covid19[np.logical_and(covid19.geoId.isnull(), covid19.countryterritoryCode =='NAM')].shape\n",
    "# --> bei allen 62 fehlenden Werten für 'geoID' ist auch 'countryterritoryCode' 'NAM' gesetzt"
   ],
   "metadata": {
    "collapsed": false,
    "pycharm": {
     "name": "#%%\n"
    }
   }
  },
  {
   "cell_type": "markdown",
   "source": [
    "**Lösung**\n",
    "- für Namibia wird manuell eine neue geoId 'NB' vergeben\n",
    "- dafür wurde mithilfe der Funktion .unique() überprüft, welche 'geoId' noch nicht vergeben wurde"
   ],
   "metadata": {
    "collapsed": false
   }
  },
  {
   "cell_type": "code",
   "execution_count": null,
   "outputs": [],
   "source": [
    "np.sort(list(covid19['geoId'].unique()))"
   ],
   "metadata": {
    "collapsed": false,
    "pycharm": {
     "name": "#%%\n"
    }
   }
  },
  {
   "cell_type": "code",
   "execution_count": null,
   "outputs": [],
   "source": [
    "# ersetze die fehlenden Werte in Spalte 'geoId' mit 'NB' und vollziehe die Änderung unmittelbar im Dataframe covid19\n",
    "covid19['geoId'].fillna('NB', inplace = True)"
   ],
   "metadata": {
    "collapsed": false,
    "pycharm": {
     "name": "#%%\n"
    }
   }
  },
  {
   "cell_type": "markdown",
   "source": [
    "### Betrachtung der Spalte 'countryterritoryCode'"
   ],
   "metadata": {
    "collapsed": false
   }
  },
  {
   "cell_type": "code",
   "execution_count": null,
   "outputs": [],
   "source": [
    "# Welche Instanzen weisen fehlende Werte auf?\n",
    "mis_val_territory = covid19[covid19.countryterritoryCode.isnull()]\n",
    "mis_val_territory"
   ],
   "metadata": {
    "collapsed": false,
    "pycharm": {
     "name": "#%%\n"
    }
   }
  },
  {
   "cell_type": "code",
   "execution_count": null,
   "outputs": [],
   "source": [
    "# Wie viele Einträge je 'countriesAndTerritories' fehlen?\n",
    "mis_val_territory['countriesAndTerritories'].value_counts()"
   ],
   "metadata": {
    "collapsed": false,
    "pycharm": {
     "name": "#%%\n"
    }
   }
  },
  {
   "cell_type": "markdown",
   "source": [
    "- für diese 5 Fälle werden manuell neue 'countryterritoryCode' vergeben, die sich nicht mit den bisherigen überschneiden\n",
    "- die Überprüfung hierfür erfolgt mithilfe der Funktion .unique()"
   ],
   "metadata": {
    "collapsed": false
   }
  },
  {
   "cell_type": "code",
   "execution_count": null,
   "outputs": [],
   "source": [
    "np.sort(list(covid19['countryterritoryCode'].unique()))"
   ],
   "metadata": {
    "collapsed": false,
    "pycharm": {
     "name": "#%%\n"
    }
   }
  },
  {
   "cell_type": "markdown",
   "source": [
    "**Lösung**\n",
    "\n",
    "Folgende Codes werden vergeben\n",
    "\n",
    "- ICJ: Cases_on_an_international_conveyance_Japan\n",
    "- ANG: Anguilla\n",
    "- BON: Bonaire, Saint Eustatius and Saba\n",
    "- FAL: Falkland_Islands_(Malvinas)\n",
    "- WSH: Western_Sahara"
   ],
   "metadata": {
    "collapsed": false
   }
  },
  {
   "cell_type": "code",
   "execution_count": null,
   "outputs": [],
   "source": [
    "covid19.loc[covid19['countriesAndTerritories'] == 'Cases_on_an_international_conveyance_Japan', ['countryterritoryCode']] = 'ICJ'\n",
    "covid19.loc[covid19['countriesAndTerritories'] == 'Anguilla', ['countryterritoryCode']] = 'ANG'\n",
    "covid19.loc[covid19['countriesAndTerritories'] == 'Bonaire, Saint Eustatius and Saba', ['countryterritoryCode']] = 'BON'\n",
    "covid19.loc[covid19['countriesAndTerritories'] == 'Falkland_Islands_(Malvinas)', ['countryterritoryCode']] = 'FAL'\n",
    "covid19.loc[covid19['countriesAndTerritories'] == 'Western_Sahara', ['countryterritoryCode']] = 'WSH'"
   ],
   "metadata": {
    "collapsed": false,
    "pycharm": {
     "name": "#%%\n"
    }
   }
  },
  {
   "cell_type": "markdown",
   "source": [
    "### Betrachtung der Spalte 'popData2018'"
   ],
   "metadata": {
    "collapsed": false
   }
  },
  {
   "cell_type": "code",
   "execution_count": null,
   "outputs": [],
   "source": [
    "# Welche Instanzen weisen fehlende Werte auf?\n",
    "mis_val_popData = covid19[covid19.popData2018.isnull()]\n",
    "mis_val_popData"
   ],
   "metadata": {
    "collapsed": false,
    "pycharm": {
     "name": "#%%\n"
    }
   }
  },
  {
   "cell_type": "code",
   "execution_count": null,
   "outputs": [],
   "source": [
    "# Wie viele Einträge je 'countriesAndTerritories' fehlen?\n",
    "mis_val_popData['countriesAndTerritories'].value_counts()"
   ],
   "metadata": {
    "collapsed": false,
    "pycharm": {
     "name": "#%%\n"
    }
   }
  },
  {
   "cell_type": "markdown",
   "source": [
    "--> die 5 betroffenen Ländern werden nun im Einzelfall betrachtet"
   ],
   "metadata": {
    "collapsed": false
   }
  },
  {
   "cell_type": "markdown",
   "source": [
    "#### Eritrea"
   ],
   "metadata": {
    "collapsed": false
   }
  },
  {
   "cell_type": "code",
   "execution_count": null,
   "outputs": [],
   "source": [
    "covid19[covid19.countriesAndTerritories == 'Eritrea'].head()"
   ],
   "metadata": {
    "collapsed": false,
    "pycharm": {
     "name": "#%%\n"
    }
   }
  },
  {
   "cell_type": "markdown",
   "source": [
    "**Lösung**\n",
    "- die Bevölkerungszahl wird manuell auf den Wert 6.500.000 gesetzt\n",
    "\n",
    "Quelle:\n",
    "\n",
    "\"Im Jahr 2018 betrug die Einwohnerzahl von Eritrea geschätzt rund 6,05 Millionen Personen.\" (https://de.statista.com/statistik/daten/studie/417176/umfrage/gesamtbevoelkerung-von-eritrea/)"
   ],
   "metadata": {
    "collapsed": false
   }
  },
  {
   "cell_type": "code",
   "execution_count": null,
   "outputs": [],
   "source": [
    "covid19.loc[covid19['countriesAndTerritories'] == 'Eritrea', ['popData2018']] = 6500000"
   ],
   "metadata": {
    "collapsed": false,
    "pycharm": {
     "name": "#%%\n"
    }
   }
  },
  {
   "cell_type": "markdown",
   "source": [
    "#### Anguilla"
   ],
   "metadata": {
    "collapsed": false
   }
  },
  {
   "cell_type": "code",
   "execution_count": null,
   "outputs": [],
   "source": [
    "covid19[covid19.countriesAndTerritories == 'Anguilla'].head()"
   ],
   "metadata": {
    "collapsed": false,
    "pycharm": {
     "name": "#%%\n"
    }
   }
  },
  {
   "cell_type": "markdown",
   "source": [
    "**Lösung**\n",
    "- die Bevölkerungszahl wird manuell auf den Wert 17.422 gesetzt\n",
    "\n",
    "Quelle:\n",
    "\n",
    "\"Bevölkerung: 17.422 (Juli 2018 est.)\" (https://www.indexmundi.com/de/anguilla/bevolkerung.html)"
   ],
   "metadata": {
    "collapsed": false
   }
  },
  {
   "cell_type": "code",
   "execution_count": null,
   "outputs": [],
   "source": [
    "covid19.loc[covid19['countriesAndTerritories'] == 'Anguilla', ['popData2018']] = 17422"
   ],
   "metadata": {
    "collapsed": false,
    "pycharm": {
     "name": "#%%\n"
    }
   }
  },
  {
   "cell_type": "markdown",
   "source": [
    "#### Bonaire, Saint Eustatius and Saba"
   ],
   "metadata": {
    "collapsed": false
   }
  },
  {
   "cell_type": "code",
   "execution_count": null,
   "outputs": [],
   "source": [
    "covid19[covid19.countriesAndTerritories == 'Bonaire, Saint Eustatius and Saba'].head()"
   ],
   "metadata": {
    "collapsed": false,
    "pycharm": {
     "name": "#%%\n"
    }
   }
  },
  {
   "cell_type": "markdown",
   "source": [
    "**Lösung**\n",
    "- die Bevölkerungszahl wird manuell auf den Wert 25.157 gesetzt\n",
    "\n",
    "Quelle:\n",
    "\n",
    "\"Einwohner Schätzung 2019-01-01: 25.157\"\n",
    "(https://www.citypopulation.de/de/caribbeannetherlands/)"
   ],
   "metadata": {
    "collapsed": false
   }
  },
  {
   "cell_type": "code",
   "execution_count": null,
   "outputs": [],
   "source": [
    "covid19.loc[covid19['countriesAndTerritories'] == 'Bonaire, Saint Eustatius and Saba', ['popData2018']] = 25157"
   ],
   "metadata": {
    "collapsed": false,
    "pycharm": {
     "name": "#%%\n"
    }
   }
  },
  {
   "cell_type": "markdown",
   "source": [
    "#### Falkland Islands (Malvinas)"
   ],
   "metadata": {
    "collapsed": false
   }
  },
  {
   "cell_type": "code",
   "execution_count": null,
   "outputs": [],
   "source": [
    "covid19[covid19.countriesAndTerritories == 'Falkland_Islands_(Malvinas)'].head()"
   ],
   "metadata": {
    "collapsed": false,
    "pycharm": {
     "name": "#%%\n"
    }
   }
  },
  {
   "cell_type": "markdown",
   "source": [
    "**Lösung**\n",
    "- die Bevölkerungszahl wird manuell auf den Wert 2.922 gesetzt\n",
    "\n",
    "Quelle:\n",
    "\n",
    "\"Einwohnerzahl: 2.922\" (https://de.wikipedia.org/wiki/Falklandinseln)"
   ],
   "metadata": {
    "collapsed": false
   }
  },
  {
   "cell_type": "code",
   "execution_count": null,
   "outputs": [],
   "source": [
    "covid19.loc[covid19['countriesAndTerritories'] == 'Falkland_Islands_(Malvinas)', ['popData2018']] = 2922"
   ],
   "metadata": {
    "collapsed": false,
    "pycharm": {
     "name": "#%%\n"
    }
   }
  },
  {
   "cell_type": "markdown",
   "source": [
    "#### Western_Sahara"
   ],
   "metadata": {
    "collapsed": false
   }
  },
  {
   "cell_type": "code",
   "execution_count": null,
   "outputs": [],
   "source": [
    "covid19[covid19.countriesAndTerritories == 'Western_Sahara'].head()"
   ],
   "metadata": {
    "collapsed": false,
    "pycharm": {
     "name": "#%%\n"
    }
   }
  },
  {
   "cell_type": "markdown",
   "source": [
    "**Lösung**\n",
    "- die Bevölkerungszahl wird manuell auf den Wert 554.200 gesetzt\n",
    "\n",
    "Quelle:\n",
    "\n",
    "\"Einwohner Projektion (P) 2018-07-01: 554.200\" (https://www.citypopulation.de/WesternSahara_d.html)"
   ],
   "metadata": {
    "collapsed": false
   }
  },
  {
   "cell_type": "code",
   "execution_count": null,
   "outputs": [],
   "source": [
    "covid19.loc[covid19['countriesAndTerritories'] == 'Western_Sahara', ['popData2018']] = 554200"
   ],
   "metadata": {
    "collapsed": false,
    "pycharm": {
     "name": "#%%\n"
    }
   }
  },
  {
   "cell_type": "markdown",
   "source": [
    "## Überprüfen auf weitere Auffälligkeiten"
   ],
   "metadata": {
    "collapsed": false
   }
  },
  {
   "cell_type": "markdown",
   "source": [
    "### negative Erfassungszahlen für (Neu-)Infizierte und Todesfälle"
   ],
   "metadata": {
    "collapsed": false
   }
  },
  {
   "cell_type": "markdown",
   "source": [
    "#### Neuinfektionen"
   ],
   "metadata": {
    "collapsed": false
   }
  },
  {
   "cell_type": "code",
   "execution_count": null,
   "outputs": [],
   "source": [
    "covid19[covid19.cases < 0]"
   ],
   "metadata": {
    "collapsed": false,
    "pycharm": {
     "name": "#%%\n"
    }
   }
  },
  {
   "cell_type": "markdown",
   "source": [
    "- mehrere Beobachtungen weisen negative Werte in der Spalte 'cases' auf\n",
    "- diese erscheinen unplausibel und deuten auf eine Fehlerfassung hin\n",
    "\n",
    "**Lösung**\n",
    "\n",
    "- Umkehr der Vorzeichen"
   ],
   "metadata": {
    "collapsed": false
   }
  },
  {
   "cell_type": "code",
   "execution_count": null,
   "outputs": [],
   "source": [
    "# Funktion, die das Vorzeichen für negative Werte umkehrt\n",
    "korr_negativ = lambda i: i*-1 if i < 0 else i\n",
    "\n",
    "# Anwendung der Lambda-Funktion auf die Spalte 'cases'\n",
    "covid19['cases'] = covid19['cases'].apply(korr_negativ)"
   ],
   "metadata": {
    "collapsed": false,
    "pycharm": {
     "name": "#%%\n"
    }
   }
  },
  {
   "cell_type": "markdown",
   "source": [
    "#### Todesfälle"
   ],
   "metadata": {
    "collapsed": false
   }
  },
  {
   "cell_type": "code",
   "execution_count": null,
   "outputs": [],
   "source": [
    "covid19[covid19.deaths < 0]"
   ],
   "metadata": {
    "collapsed": false,
    "pycharm": {
     "name": "#%%\n"
    }
   }
  },
  {
   "cell_type": "markdown",
   "source": [
    "-  Handlungsbedarf in einer Zeile"
   ],
   "metadata": {
    "collapsed": false
   }
  },
  {
   "cell_type": "code",
   "execution_count": null,
   "outputs": [],
   "source": [
    "# Anwendung der Lambda-Funktion auf die Spalte 'deaths'\n",
    "covid19['deaths'] = covid19['deaths'].apply(korr_negativ)"
   ],
   "metadata": {
    "collapsed": false,
    "pycharm": {
     "name": "#%%\n"
    }
   }
  },
  {
   "cell_type": "markdown",
   "source": [
    "# Visualisierung der Daten"
   ],
   "metadata": {
    "collapsed": false
   }
  },
  {
   "cell_type": "markdown",
   "source": [
    "## Die 10 am stärksten betroffenen Länder weltweit\n",
    "\n",
    "Datenstand: 15.05.2020"
   ],
   "metadata": {
    "collapsed": false
   }
  },
  {
   "cell_type": "markdown",
   "source": [
    "### Gesamtinfektionen"
   ],
   "metadata": {
    "collapsed": false
   }
  },
  {
   "cell_type": "code",
   "execution_count": null,
   "outputs": [],
   "source": [
    "# im Dataframe covid19 werden die Einträge nach Ländern ('countriesAndTerritories') gruppiert\n",
    "# das auf diese Weise neu entstandene Dataframe beinhaltet nun lediglich aggregierte Werte (Summen) und keine Zeitdimension mehr\n",
    "# in einem Säulendiagramm werden die 10 Länder visualisiert, die die größte Anzahl an Gesamtinfektionen aufweisen\n",
    "covid19.groupby('countriesAndTerritories')['cases'].sum().nlargest(10).plot(kind = 'bar', color = ['gray', 'gray', 'gray', 'gray', 'gray', 'gray', 'darkred', 'gray', 'gray', 'gray'])\n",
    "\n",
    "# Einstellungen für Titel, Beschriftungen, Schriftgröße ...\n",
    "plt.title('Fallzahlen der 10 am stärksten betroffenen Länder (weltweit)', fontsize = 24, pad = 30)\n",
    "plt.ylabel('Gesamtinfektionen', fontsize = 20)\n",
    "plt.xlabel('Land', fontsize = 20)\n",
    "plt.xticks(fontsize = 18)\n",
    "plt.yticks(fontsize = 18)"
   ],
   "metadata": {
    "collapsed": false,
    "pycharm": {
     "name": "#%%\n"
    }
   }
  },
  {
   "cell_type": "markdown",
   "source": [
    "### Todesfälle"
   ],
   "metadata": {
    "collapsed": false
   }
  },
  {
   "cell_type": "code",
   "execution_count": null,
   "outputs": [],
   "source": [
    "# im Dataframe covid19 werden die Einträge nach Ländern ('countriesAndTerritories') gruppiert\n",
    "# das auf diese Weise neu entstandene Dataframe beinhaltet nun lediglich aggregierte Werte (Summen) und keine Zeitdimension mehr\n",
    "# in einem Säulendiagramm werden die 10 Länder visualisiert, die die größte Anzahl an Todesfällen aufweisen\n",
    "covid19.groupby('countriesAndTerritories')['deaths'].sum().nlargest(10).plot(kind = 'bar', color = ['gray', 'gray', 'gray', 'gray', 'gray', 'gray', 'gray', 'darkred', 'gray', 'gray'])\n",
    "\n",
    "# Einstellungen für Titel, Beschriftungen, Schriftgröße ...\n",
    "plt.title('Fallzahlen der 10 am stärksten betroffenen Länder (weltweit)', fontsize = 24, pad = 30)\n",
    "plt.ylabel('Todesfälle', fontsize = 20)\n",
    "plt.xlabel('Land', fontsize = 20)\n",
    "plt.xticks(fontsize = 18)\n",
    "plt.yticks(fontsize = 18)"
   ],
   "metadata": {
    "collapsed": false,
    "pycharm": {
     "name": "#%%\n"
    }
   }
  },
  {
   "cell_type": "markdown",
   "source": [
    "## Die 10 am stärksten betroffenen Länder Europas\n",
    "\n",
    "Datenstand: 15.05.2020"
   ],
   "metadata": {
    "collapsed": false
   }
  },
  {
   "cell_type": "markdown",
   "source": [
    "### Gesamtinfektionen"
   ],
   "metadata": {
    "collapsed": false
   }
  },
  {
   "cell_type": "code",
   "execution_count": null,
   "outputs": [],
   "source": [
    "# Erstellung eines separaten Dataframes, das aus dem Dataframe covid19 alle Einträge für Europa herausfiltert\n",
    "europa = covid19[covid19.continentExp == 'Europe']"
   ],
   "metadata": {
    "collapsed": false,
    "pycharm": {
     "name": "#%%\n"
    }
   }
  },
  {
   "cell_type": "code",
   "execution_count": null,
   "outputs": [],
   "source": [
    "# im Dataframe europa werden die Einträge nach Ländern ('countriesAndTerritories') gruppiert\n",
    "# das auf diese Weise neu entstandene Dataframe beinhaltet nun lediglich aggregierte Werte (Summen) und keine Zeitdimension mehr\n",
    "# in einem Säulendiagramm werden die 10 Länder visualisiert, die die größte Anzahl an Gesamtinfektionen aufweisen\n",
    "europa.groupby('countriesAndTerritories')['cases'].sum().nlargest(10).plot(kind = 'bar', color = ['gray', 'gray', 'gray', 'gray', 'darkred', 'gray', 'gray', 'gray', 'gray', 'gray'])\n",
    "\n",
    "# Einstellungen für Titel, Beschriftungen, Schriftgröße ...\n",
    "plt.title('Fallzahlen der 10 am stärksten betroffenen Länder (Europa)', fontsize = 24, pad = 30)\n",
    "plt.ylabel('Gesamtinfektionen', fontsize = 20)\n",
    "plt.xlabel('Land', fontsize = 20)\n",
    "plt.xticks(fontsize = 18)\n",
    "plt.yticks(fontsize = 18)"
   ],
   "metadata": {
    "collapsed": false,
    "pycharm": {
     "name": "#%%\n"
    }
   }
  },
  {
   "cell_type": "markdown",
   "source": [
    "### Todesfälle"
   ],
   "metadata": {
    "collapsed": false
   }
  },
  {
   "cell_type": "code",
   "execution_count": null,
   "outputs": [],
   "source": [
    "# im Dataframe europa werden die Einträge nach Ländern ('countriesAndTerritories') gruppiert\n",
    "# das auf diese Weise neu entstandene Dataframe beinhaltet nun lediglich aggregierte Werte (Summen) und keine Zeitdimension mehr\n",
    "# in einem Säulendiagramm werden die 10 Länder visualisiert, die die größte Anzahl an Todesfällen aufweisen\n",
    "europa.groupby('countriesAndTerritories')['deaths'].sum().nlargest(10).plot(kind = 'bar', color = ['gray', 'gray', 'gray', 'gray', 'gray', 'darkred', 'gray', 'gray', 'gray', 'gray'])\n",
    "\n",
    "# Einstellungen für Titel, Beschriftungen, Schriftgröße ...\n",
    "plt.title('Fallzahlen der 10 am stärksten betroffenen Länder (Europa)', fontsize = 24, pad = 30)\n",
    "plt.ylabel('Todesfälle', fontsize = 20)\n",
    "plt.xlabel('Land', fontsize = 20)\n",
    "plt.xticks(fontsize = 18)\n",
    "plt.yticks(fontsize = 18)"
   ],
   "metadata": {
    "collapsed": false,
    "pycharm": {
     "name": "#%%\n"
    }
   }
  },
  {
   "cell_type": "markdown",
   "source": [
    "## Entwicklungen in Deutschland\n",
    "\n",
    "Datenstand: 15.05.2020"
   ],
   "metadata": {
    "collapsed": false
   }
  },
  {
   "cell_type": "code",
   "execution_count": 2,
   "outputs": [
    {
     "ename": "NameError",
     "evalue": "name 'pd' is not defined",
     "output_type": "error",
     "traceback": [
      "\u001B[0;31m---------------------------------------------------------------------------\u001B[0m",
      "\u001B[0;31mNameError\u001B[0m                                 Traceback (most recent call last)",
      "\u001B[0;32m<ipython-input-2-b61bfe0e5936>\u001B[0m in \u001B[0;36m<module>\u001B[0;34m\u001B[0m\n\u001B[1;32m      1\u001B[0m \u001B[0;31m# Erstellung eines separaten Dataframes, das aus dem Dataframe covid19 alle Einträge für Deutschland herausfiltert\u001B[0m\u001B[0;34m\u001B[0m\u001B[0;34m\u001B[0m\u001B[0;34m\u001B[0m\u001B[0m\n\u001B[1;32m      2\u001B[0m \u001B[0;31m# germany = covid19[covid19['countriesAndTerritories'] == 'Germany']\u001B[0m\u001B[0;34m\u001B[0m\u001B[0;34m\u001B[0m\u001B[0;34m\u001B[0m\u001B[0m\n\u001B[0;32m----> 3\u001B[0;31m \u001B[0mgermany\u001B[0m \u001B[0;34m=\u001B[0m \u001B[0mpd\u001B[0m\u001B[0;34m.\u001B[0m\u001B[0mDataFrame\u001B[0m\u001B[0;34m(\u001B[0m\u001B[0mcovid19\u001B[0m\u001B[0;34m[\u001B[0m\u001B[0mcovid19\u001B[0m\u001B[0;34m[\u001B[0m\u001B[0;34m'countriesAndTerritories'\u001B[0m\u001B[0;34m]\u001B[0m \u001B[0;34m==\u001B[0m \u001B[0;34m'Germany'\u001B[0m\u001B[0;34m]\u001B[0m\u001B[0;34m)\u001B[0m\u001B[0;34m\u001B[0m\u001B[0;34m\u001B[0m\u001B[0m\n\u001B[0m\u001B[1;32m      4\u001B[0m \u001B[0;34m\u001B[0m\u001B[0m\n\u001B[1;32m      5\u001B[0m \u001B[0;31m# Erstellung zweier zusätzlicher Spalten, die die kumulierten Gesamtinfektionen und Todesfälle aufzeigen\u001B[0m\u001B[0;34m\u001B[0m\u001B[0;34m\u001B[0m\u001B[0;34m\u001B[0m\u001B[0m\n",
      "\u001B[0;31mNameError\u001B[0m: name 'pd' is not defined"
     ]
    }
   ],
   "source": [
    "# Erstellung eines separaten Dataframes, das aus dem Dataframe covid19 alle Einträge für Deutschland herausfiltert\n",
    "# germany = covid19[covid19['countriesAndTerritories'] == 'Germany']\n",
    "germany = pd.DataFrame(covid19[covid19['countriesAndTerritories'] == 'Germany'])\n",
    "\n",
    "# Erstellung zweier zusätzlicher Spalten, die die kumulierten Gesamtinfektionen und Todesfälle aufzeigen\n",
    "germany['Fälle kumuliert'] = germany['cases'].cumsum()\n",
    "germany['Todesfälle kumuliert'] = germany['deaths'].cumsum()"
   ],
   "metadata": {
    "collapsed": false,
    "pycharm": {
     "name": "#%%\n"
    }
   }
  },
  {
   "cell_type": "code",
   "execution_count": null,
   "outputs": [],
   "source": [
    "# Kürzen des Dataframes, sodass die Einträge mit dem ersten registrierten Fall beginnen (Datum gesondert ermittelt)\n",
    "# alle Einträge mit 0 vor dem 28.01.2020 wurden 'abgeschnitten'\n",
    "germany = germany['2020-01-28' : ]\n",
    "\n",
    "# Zeichnen von je einer Linie für Gesamtinfektionen und Todesfälle\n",
    "plt.plot(germany['Fälle kumuliert'], label = 'Gesamtinfektionen', alpha = 0.7, color = 'black', lw = 3, marker = 'o')\n",
    "plt.plot(germany['Todesfälle kumuliert'], label = 'Todesfälle', alpha = 0.7, color = 'darkred', lw = 3, marker = 'd')\n",
    "\n",
    "# Einstellungen für Titel, Beschriftungen, Schriftgröße ...\n",
    "plt.title('Pandemieentwicklung in Deutschland', fontsize = 24, pad = 30)\n",
    "plt.ylabel('Anzahl', fontsize = 20)\n",
    "plt.xticks(rotation = 45)\n",
    "plt.xticks(fontsize = 18)\n",
    "plt.yticks(fontsize = 18)\n",
    "plt.legend(fontsize = 18)\n",
    "plt.grid()"
   ],
   "metadata": {
    "collapsed": false,
    "pycharm": {
     "name": "#%%\n"
    }
   }
  },
  {
   "cell_type": "markdown",
   "source": [
    "## Vergleich mit Großbritannien (höchste Anzahl Todesfälle in Europa), Russland (höchste europäische Infektionszahl) und China (Urspungsland)\n",
    "\n",
    "Datenstand: 15.05.2020"
   ],
   "metadata": {
    "collapsed": false
   }
  },
  {
   "cell_type": "code",
   "execution_count": null,
   "outputs": [],
   "source": [
    "# Entfernen des Zeitindex zur Vergleichbarkeit der Entwicklungen mit anderen Ländern\n",
    "germany = germany.reset_index()\n",
    "del germany['dateRep']\n",
    "\n",
    "\n",
    "\n",
    "# Erstellung eines separaten Dataframes, das aus dem Dataframe covid19 alle Einträge für China herausfiltert\n",
    "china = pd.DataFrame(covid19[covid19['countriesAndTerritories'] == 'China'])\n",
    "# Entfernen des Zeitindex zur Vergleichbarkeit der Entwicklungen mit anderen Ländern\n",
    "china = china.reset_index()\n",
    "del china['dateRep']\n",
    "# Erstellung zweier zusätzlicher Spalten, die die kumulierten Gesamtinfektionen und Todesfälle aufzeigen\n",
    "china['Fälle kumuliert'] = china['cases'].cumsum()\n",
    "china['Todesfälle kumuliert'] = china['deaths'].cumsum()\n",
    "\n",
    "\n",
    "\n",
    "# Erstellung eines separaten Dataframes, das aus dem Dataframe covid19 alle Einträge für Großbritannien herausfiltert\n",
    "uk = pd.DataFrame(covid19[covid19['countriesAndTerritories'] == 'United_Kingdom'])\n",
    "# Kürzen des Dataframes, sodass die Einträge mit dem ersten registrierten Fall beginnen (Datum gesondert ermittelt)\n",
    "uk = uk['2020-01-31' :]\n",
    "# Entfernen des Zeitindex zur Vergleichbarkeit der Entwicklungen mit anderen Ländern\n",
    "uk = uk.reset_index()\n",
    "del uk['dateRep']\n",
    "# Erstellung zweier zusätzlicher Spalten, die die kumulierten Gesamtinfektionen und Todesfälle aufzeigen\n",
    "uk['Fälle kumuliert'] = uk['cases'].cumsum()\n",
    "uk['Todesfälle kumuliert'] = uk['deaths'].cumsum()\n",
    "\n",
    "\n",
    "\n",
    "# Erstellung eines separaten Dataframes, das aus dem Dataframe covid19 alle Einträge für Russland herausfiltert\n",
    "russia = pd.DataFrame(covid19[covid19['countriesAndTerritories'] == 'Russia'])\n",
    "# Kürzen des Dataframes, sodass die Einträge mit dem ersten registrierten Fall beginnen (Datum gesondert ermittelt)\n",
    "russia = russia['2020-02-01' :]\n",
    "# Entfernen des Zeitindex zur Vergleichbarkeit der Entwicklungen mit anderen Ländern\n",
    "russia = russia.reset_index()\n",
    "del russia['dateRep']\n",
    "# Erstellung zweier zusätzlicher Spalten, die die kumulierten Gesamtinfektionen und Todesfälle aufzeigen\n",
    "russia['Fälle kumuliert'] = russia['cases'].cumsum()\n",
    "russia['Todesfälle kumuliert'] = russia['deaths'].cumsum()"
   ],
   "metadata": {
    "collapsed": false,
    "pycharm": {
     "name": "#%%\n"
    }
   }
  },
  {
   "cell_type": "code",
   "execution_count": null,
   "outputs": [],
   "source": [
    "# Zeichnen von je einer Linie für Gesamtinfektionen der 4 betrachteten Länder\n",
    "plt.plot(russia['Fälle kumuliert'], label = 'Russland', alpha = 0.7, color = 'darkgreen', lw = 3, marker = 'o')\n",
    "plt.plot(uk['Fälle kumuliert'], label = 'Großbritannien', alpha = 0.7, color = 'yellow', lw = 3, marker = 'o')\n",
    "plt.plot(germany['Fälle kumuliert'], label = 'Deutschland', alpha = 0.7, color = 'darkblue', lw = 3, marker = 'o')\n",
    "plt.plot(china['Fälle kumuliert'], label = 'China', alpha = 0.7, color = 'black', lw = 3, marker = 'o')\n",
    "\n",
    "# Einstellungen für Titel, Beschriftungen, Schriftgröße ...\n",
    "plt.xticks(fontsize = 18)\n",
    "plt.yticks(fontsize = 18)\n",
    "plt.legend(fontsize = 18)\n",
    "plt.xlim(0,103)\n",
    "plt.xticks(np.arange(0, 103, 7), range(16))\n",
    "plt.xlabel('Woche', fontsize = 20)\n",
    "plt.ylabel('Anzahl der Infizierten', fontsize = 20)\n",
    "plt.title('Vergleich der Pandemieentwicklung in ausgewählten Ländern (Gesamtinfektionen)', fontsize = 24, pad = 30)\n",
    "plt.grid()"
   ],
   "metadata": {
    "collapsed": false,
    "pycharm": {
     "name": "#%%\n"
    }
   }
  },
  {
   "cell_type": "code",
   "execution_count": null,
   "outputs": [],
   "source": [
    "# Zeichnen von je einer Linie für Todesfälle der 4 betrachteten Länder\n",
    "plt.plot(uk['Todesfälle kumuliert'], label = 'Großbritannien', alpha = 0.7, color = 'darkgreen', lw = 3, marker = 'd')\n",
    "plt.plot(germany['Todesfälle kumuliert'], label = 'Deutschland', alpha = 0.7, color = 'darkblue', lw = 3, marker = 'd')\n",
    "plt.plot(china['Todesfälle kumuliert'], label = 'China', alpha = 0.7, color = 'black', lw = 3, marker = 'd')\n",
    "plt.plot(russia['Todesfälle kumuliert'], label = 'Russland', alpha = 0.7, color = 'yellow', lw = 3, marker = 'd')\n",
    "\n",
    "# Einstellungen für Titel, Beschriftungen, Schriftgröße ...\n",
    "plt.xticks(fontsize = 18)\n",
    "plt.yticks(fontsize = 18)\n",
    "plt.legend(fontsize = 18)\n",
    "plt.xlim(0,103)\n",
    "plt.xticks(np.arange(0, 103, 7), range(15))\n",
    "plt.xlabel('Woche', fontsize = 20)\n",
    "plt.ylabel('Anzahl der Verstorbenen', fontsize = 20)\n",
    "plt.title('Vergleich der Pandemieentwicklung in ausgewählten Ländern (Todesfälle)', fontsize = 24, pad = 30)\n",
    "plt.grid()"
   ],
   "metadata": {
    "collapsed": false,
    "pycharm": {
     "name": "#%%\n"
    }
   }
  },
  {
   "cell_type": "markdown",
   "source": [
    "## Abhängigkeit zwischen Gesamtinfektionen und Todesfällen\n",
    "\n",
    "Datenstand: 15.05.2020"
   ],
   "metadata": {
    "collapsed": false
   }
  },
  {
   "cell_type": "code",
   "execution_count": null,
   "outputs": [],
   "source": [
    "# in einem neuen Dataframe world werden aus covid19 die Einträge nach Ländern ('countriesAndTerritories') gruppiert und gespeichert\n",
    "# alle numerischen Werte werden als Summe aggregiert\n",
    "world = covid19.groupby(['countriesAndTerritories']).sum()\n",
    "\n",
    "# Erstellung einer zusätzlicher Spalten für den Kontinent mit Initialwert '' und Setzen der Bevölkerungszahl auf 0\n",
    "# durch die Aggregationsmethode .sum() werden auch die Bevölkerungszahlen addiert\n",
    "# um die tatsächliche Bevölkerungszahl zu erhalten, wird sie im nächsten Schritt separat bestimmt\n",
    "world['Kontinent'] = ''\n",
    "world['popData2018'] = 0\n",
    "\n",
    "# Anlegen einer Liste mit allen Ländern (jedes Land kommt nur einmal in dieser Liste vor)\n",
    "land = list(covid19.countriesAndTerritories.unique())\n",
    "\n",
    "# Bestimme für jedes Land in der Liste den Kontinent und die Bevölkerungszahl aus dem Dataframe covid19 und überschreibe die Einträge\n",
    "# entsprechend im Dataframe world\n",
    "for l in land:\n",
    "  cont = covid19[covid19.countriesAndTerritories == l]['continentExp'].unique()\n",
    "  cont = cont[0]\n",
    "  world.loc[l, 'Kontinent'] = cont\n",
    "  pop = covid19[covid19.countriesAndTerritories == l]['popData2018'].unique()\n",
    "  pop = pop[0]\n",
    "  world.loc[l, 'popData2018'] = pop\n",
    "\n",
    "# Dictionary, das Kontinenten Farben zuordnet\n",
    "col = {'Africa':'black',\n",
    "       'America':'red',\n",
    "       'Asia':'yellow',\n",
    "       'Europe':'green',\n",
    "       'Oceania':'blue',\n",
    "       'Other' : 'purple'}\n",
    "\n",
    "# Erstellung einer neuen Spalte, das jedem Land eine Farbe entsprechend des Kontinents zuordnet\n",
    "world['Farbe'] = world.Kontinent.map(col)\n",
    "# Erstellung weiterer Spalten für die Auswertung\n",
    "#### Wie viel Prozent der Bevölkerung haben sich infiziert?\n",
    "world['% Infizierte'] = world.cases / world.popData2018 * 100\n",
    "#### Wie hoch ist die Mortalitätsrate bei den Infizierten?\n",
    "world['% Verstorbene'] = world.deaths / world.cases * 100\n",
    "#### Wie viele Fälle sind derzeit aktiv erkrankt oder geheilt?\n",
    "world['Aktive Fälle inkl. Geheilte'] = world.cases - world.deaths\n",
    "\n",
    "# Anzeigen des neuen Dataframes\n",
    "world"
   ],
   "metadata": {
    "collapsed": false,
    "pycharm": {
     "name": "#%%\n"
    }
   }
  },
  {
   "cell_type": "code",
   "execution_count": null,
   "outputs": [],
   "source": [
    "# Darstellung der Abhängigkeit zwischen Gesamtinfektionen und Todesfällen pro Land\n",
    "# Farbe des Punktes ergibt repräsentiert den jeweiligen Kontinent\n",
    "# Größe des Punktes ergibt sich aus der Bevölkerungszahl (um die Punkte in einer sinnvollen Größe darzustellen wurden sie mit dem Faktor\n",
    "# 1/100000 herunterskaliert)\n",
    "plt.scatter(world.deaths, world.cases, s = world.popData2018/100000, alpha = 0.4, c = world.Farbe)\n",
    "\n",
    "# Beschriftungen einzelner Datenpunkte\n",
    "liste = ['Germany', 'Russia', 'United_Kingdom', 'China', 'United_States_of_America']\n",
    "for l in liste:\n",
    "  x = world.loc[l]['deaths']\n",
    "  y = world.loc[l]['cases']\n",
    "  pylab.text(x , y, l, fontsize = 12)\n",
    "\n",
    "# Benutzerdefinierte Legende\n",
    "black_line = mlines.Line2D([], [], color='black',markersize=15, label='Afrika')\n",
    "red_line = mlines.Line2D([], [], color='red', markersize=15, label='Amerika')\n",
    "yellow_line = mlines.Line2D([], [], color='yellow', markersize=15, label='Asien')\n",
    "green_line = mlines.Line2D([], [], color='green', markersize=15, label='Europa')\n",
    "# blue_line = mlines.Line2D([], [], color='blue', markersize=15, label='Ozeanien')\n",
    "# purple_line = mlines.Line2D([], [], color='purple', markersize=15, label='Other')\n",
    "# handles = [black_line, red_line, yellow_line, green_line, blue_line, purple_line]\n",
    "handles = [black_line, red_line, yellow_line, green_line]\n",
    "labels = [h.get_label() for h in handles]\n",
    "plt.legend(handles=handles, labels=labels, fontsize = 18)\n",
    "\n",
    "# Einstellungen für Titel, Beschriftungen, Schriftgröße ...\n",
    "plt.xlabel('Todesfälle', fontsize = 20)\n",
    "plt.ylabel('Gesamtinfektionen', fontsize = 20)\n",
    "plt.title('Abhängigkeit zwischen Gesamtinfektionen und Todesfällen der einzelnen Länder (mit USA)', fontsize = 24, pad = 30)\n",
    "plt.xticks(fontsize = 18)\n",
    "plt.yticks(fontsize = 18)"
   ],
   "metadata": {
    "collapsed": false,
    "pycharm": {
     "name": "#%%\n"
    }
   }
  },
  {
   "cell_type": "code",
   "execution_count": null,
   "outputs": [],
   "source": [
    "# erneute Darstellung der Abhängigkeit zwischen Gesamtinfektionen und Todesfällen pro Land\n",
    "# Farbe des Punktes ergibt repräsentiert den jeweiligen Kontinent\n",
    "# Größe des Punktes ergibt sich aus der Bevölkerungszahl (um die Punkte in einer sinnvollen Größe darzustellen wurden sie mit dem Faktor\n",
    "# 1/100000 herunterskaliert)\n",
    "plt.scatter(world.deaths, world.cases, s = world.popData2018/100000, alpha = 0.4, c = world.Farbe)\n",
    "\n",
    "# Setzen von Limits für die Achsenwerte, um in einen bestimmten Bereich zu zoomen\n",
    "plt.xlim(0,35000)\n",
    "plt.ylim(0,270000)\n",
    "\n",
    "# Beschriftungen einzelner Datenpunkte\n",
    "liste = ['Germany', 'Russia', 'United_Kingdom', 'China']\n",
    "for l in liste:\n",
    "  x = world.loc[l]['deaths']\n",
    "  y = world.loc[l]['cases']\n",
    "  pylab.text(x , y, l, fontsize = 12)\n",
    "\n",
    "# Benutzerdefinierte Legende\n",
    "black_line = mlines.Line2D([], [], color='black',markersize=15, label='Afrika')\n",
    "red_line = mlines.Line2D([], [], color='red', markersize=15, label='Amerika')\n",
    "yellow_line = mlines.Line2D([], [], color='yellow', markersize=15, label='Asien')\n",
    "green_line = mlines.Line2D([], [], color='green', markersize=15, label='Europa')\n",
    "# blue_line = mlines.Line2D([], [], color='blue', markersize=15, label='Ozeanien')\n",
    "# purple_line = mlines.Line2D([], [], color='purple', markersize=15, label='Other')\n",
    "# handles = [black_line, red_line, yellow_line, green_line, blue_line, purple_line]\n",
    "handles = [black_line, red_line, yellow_line, green_line]\n",
    "labels = [h.get_label() for h in handles]\n",
    "plt.legend(handles=handles, labels=labels, fontsize = 18)\n",
    "\n",
    "# Einstellungen für Titel, Beschriftungen, Schriftgröße ...\n",
    "plt.xlabel('Todesfälle', fontsize = 20)\n",
    "plt.ylabel('Gesamtinfektionen', fontsize = 20)\n",
    "plt.title('Abhängigkeit zwischen Gesamtinfektionen und Todesfällen der einzelnen Länder (ohne USA)', fontsize = 24, pad = 30)\n",
    "plt.xticks(fontsize = 18)\n",
    "plt.yticks(fontsize = 18)"
   ],
   "metadata": {
    "collapsed": false,
    "pycharm": {
     "name": "#%%\n"
    }
   }
  },
  {
   "cell_type": "markdown",
   "source": [
    "**ANMERKUNGEN**\n",
    "- durch Veränderung der Werte für plt.xlim und plt.ylim kann der Plot beliebig angepasst und ein bestimmter Bereich hervorgehoben werden\n",
    "- ggf. müssen die auskommentierten Zeilen für die Legendeneinträge wieder eingeblendet werden\n",
    "- ggf. müssen die Datenbeschriftungen der Länder auskommentiert werden, wenn ein Bereich mit niedrigen Gesamtinfektionen und Todesfällen näher betrachtet werden soll\n",
    "- überlappen die Datenpunkte nicht mehr so stark, kann es ebenfalls wünschenswert sein, sämtliche Datenbeschriftungen anzuzeigen"
   ],
   "metadata": {
    "collapsed": false
   }
  },
  {
   "cell_type": "markdown",
   "source": [
    "## Top 5 Mortalitätsrate\n",
    "\n",
    "Datenstand: 15.05.2020"
   ],
   "metadata": {
    "collapsed": false
   }
  },
  {
   "cell_type": "markdown",
   "source": [
    "Fragestellung: In welchen Ländern sind vergleichsweise die meisten  Menschen verstorben (verglichen mit der Infiziertenzahl)?\n",
    "\n",
    "- Schwellenwert: mindestens 50 registrierte Todesfälle im Land\n",
    "- um Länder auszuschließen, deren Fall- und Verstorbenenzahlen noch nicht repräsentativ sind (z.B. Nicaragua, cases: 25, deaths: 8, Mortalitätsrate: 32.00%)"
   ],
   "metadata": {
    "collapsed": false
   }
  },
  {
   "cell_type": "code",
   "execution_count": null,
   "outputs": [],
   "source": [
    "# Erstellung eines separaten Dataframes, das aus dem Dataframe world die 5 größten Einträge für die Spalte \"% Verstorbene\" anzeigt\n",
    "# unter vorheriger Anwendung eines Filters, der Länder mit weniger als 50 registrierten Todesfällen ausschließt\n",
    "a = world[world.deaths >= 50]['% Verstorbene'].nlargest(5)\n",
    "\n",
    "# Anzeigen von a\n",
    "a"
   ],
   "metadata": {
    "collapsed": false,
    "pycharm": {
     "name": "#%%\n"
    }
   }
  },
  {
   "cell_type": "code",
   "execution_count": null,
   "outputs": [],
   "source": [
    "import matplotlib as mpl\n",
    "mpl.rcParams['font.size'] = 18\n",
    "\n",
    "# Zeichne für jedes Land ein Kreisdiagramm mit dem Anteil der Verstorbenen innerhalb der Infizierten\n",
    "for l in list(a.index):\n",
    "  akt = world.loc[l]['Aktive Fälle inkl. Geheilte']\n",
    "  tot = world.loc[l]['deaths']\n",
    "  labels = 'Aktive Fälle inkl. Geheilte', 'Verstorbene'\n",
    "  sizes = [akt, tot]\n",
    "  colors = ['grey', 'darkred']\n",
    "\n",
    "  plt.pie(sizes,\n",
    "          labels=labels,\n",
    "          colors=colors,\n",
    "          autopct='%1.1f%%',\n",
    "          shadow=False,\n",
    "          startangle=90)\n",
    "  plt.axis('equal')\n",
    "  plt.title(l, fontsize = 20)\n",
    "  plt.show()"
   ],
   "metadata": {
    "collapsed": false,
    "pycharm": {
     "name": "#%%\n"
    }
   }
  }
 ],
 "metadata": {
  "colab": {
   "collapsed_sections": [],
   "name": "COVID-19.ipynb",
   "provenance": []
  },
  "kernelspec": {
   "display_name": "Python 3",
   "language": "python",
   "name": "python3"
  },
  "language_info": {
   "codemirror_mode": {
    "name": "ipython",
    "version": 3
   },
   "file_extension": ".py",
   "mimetype": "text/x-python",
   "name": "python",
   "nbconvert_exporter": "python",
   "pygments_lexer": "ipython3",
   "version": "3.7.6"
  }
 },
 "nbformat": 4,
 "nbformat_minor": 4
}
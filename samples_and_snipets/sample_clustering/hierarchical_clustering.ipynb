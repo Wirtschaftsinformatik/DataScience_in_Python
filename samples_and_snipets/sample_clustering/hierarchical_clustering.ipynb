{
 "cells": [
  {
   "cell_type": "code",
   "execution_count": null,
   "metadata": {
    "collapsed": true
   },
   "outputs": [],
   "source": [
    "# import package\n",
    "from scipy.cluster import hierarchy\n",
    "import matplotlib.pyplot as plt\n",
    "import numpy as np\n",
    "\n",
    "\n",
    "\n",
    "ytdist = np.array([662., 877., 255., 412., 996., 295., 468., 268.,\n",
    "\n",
    "                   400., 754., 564., 138., 219., 869., 669.])\n",
    "\n",
    "Z = hierarchy.linkage(ytdist, 'single')\n",
    "\n",
    "plt.figure()\n",
    "\n",
    "dn = hierarchy.dendrogram(Z)\n",
    "\n",
    "\n",
    "hierarchy.set_link_color_palette(['m', 'c', 'y', 'k'])\n",
    "\n",
    "fig, axes = plt.subplots(1, 2, figsize=(8, 3))\n",
    "\n",
    "dn1 = hierarchy.dendrogram(Z, ax=axes[0], above_threshold_color='y',\n",
    "\n",
    "                           orientation='top')\n",
    "\n",
    "dn2 = hierarchy.dendrogram(Z, ax=axes[1],\n",
    "\n",
    "                           above_threshold_color='#bcbddc',\n",
    "\n",
    "                           orientation='right')\n",
    "\n",
    "hierarchy.set_link_color_palette(None)  # reset to default after use\n",
    "\n",
    "plt.show()"
   ]
  }
 ],
 "metadata": {
  "kernelspec": {
   "display_name": "Python 3",
   "language": "python",
   "name": "python3"
  },
  "language_info": {
   "codemirror_mode": {
    "name": "ipython",
    "version": 2
   },
   "file_extension": ".py",
   "mimetype": "text/x-python",
   "name": "python",
   "nbconvert_exporter": "python",
   "pygments_lexer": "ipython2",
   "version": "2.7.6"
  }
 },
 "nbformat": 4,
 "nbformat_minor": 0
}